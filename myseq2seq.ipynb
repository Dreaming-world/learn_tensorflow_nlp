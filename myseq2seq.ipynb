{
  "nbformat": 4,
  "nbformat_minor": 0,
  "metadata": {
    "colab": {
      "name": "myseq2seq.ipynb",
      "provenance": [],
      "collapsed_sections": [],
      "authorship_tag": "ABX9TyP99p1X+SVF7cL4O79p3fCs",
      "include_colab_link": true
    },
    "kernelspec": {
      "name": "python3",
      "display_name": "Python 3"
    },
    "accelerator": "GPU"
  },
  "cells": [
    {
      "cell_type": "markdown",
      "metadata": {
        "id": "view-in-github",
        "colab_type": "text"
      },
      "source": [
        "<a href=\"https://colab.research.google.com/github/Dreaming-world/learn_tensorflow_nlp/blob/master/myseq2seq.ipynb\" target=\"_parent\"><img src=\"https://colab.research.google.com/assets/colab-badge.svg\" alt=\"Open In Colab\"/></a>"
      ]
    },
    {
      "cell_type": "code",
      "metadata": {
        "id": "dHWSdQaEkaUH"
      },
      "source": [
        "import tensorflow as tf\n",
        "\n",
        "import matplotlib.pyplot as plt\n",
        "import matplotlib.ticker as ticker\n",
        "from sklearn.model_selection import train_test_split\n",
        "\n",
        "import unicodedata\n",
        "import re\n",
        "import numpy as np\n",
        "import os\n",
        "import io\n",
        "import time"
      ],
      "execution_count": null,
      "outputs": []
    },
    {
      "cell_type": "markdown",
      "metadata": {
        "id": "YvOO8HmZk7V9"
      },
      "source": [
        "# 下载数据集"
      ]
    },
    {
      "cell_type": "code",
      "metadata": {
        "id": "fwU0vDtXk6Mb"
      },
      "source": [
        "# 下载文件\n",
        "path_to_zip = tf.keras.utils.get_file(\n",
        "    'spa-eng.zip', origin='http://storage.googleapis.com/download.tensorflow.org/data/spa-eng.zip',\n",
        "    extract=True)\n",
        "\n",
        "path_to_file = os.path.dirname(path_to_zip)+\"/spa-eng/spa.txt\""
      ],
      "execution_count": null,
      "outputs": []
    },
    {
      "cell_type": "markdown",
      "metadata": {
        "id": "ty_tjobGEXWz"
      },
      "source": [
        "# 分离相互翻译的文本"
      ]
    },
    {
      "cell_type": "code",
      "metadata": {
        "id": "T7xznOd8mE10",
        "outputId": "07b9e937-4617-4681-8bcc-14a12d50a750",
        "colab": {
          "base_uri": "https://localhost:8080/"
        }
      },
      "source": [
        "source_text = []\n",
        "target_text = []\n",
        "with open(path_to_file, \"r\") as f:\n",
        "  line = f.readline()\n",
        "  while line:\n",
        "    source_text.append(line.split(\"\\t\")[0].strip())\n",
        "    target_text.append(\"<start> \" + line.split(\"\\t\")[1].strip() + \" <end>\")\n",
        "    line = f.readline()\n",
        "print(len(source_text), len(target_text))\n",
        "print(source_text[5:10])\n",
        "print(target_text[5:10])"
      ],
      "execution_count": null,
      "outputs": [
        {
          "output_type": "stream",
          "text": [
            "118964 118964\n",
            "['Run!', 'Run.', 'Who?', 'Fire!', 'Fire!']\n",
            "['<start> ¡Corre! <end>', '<start> Corred. <end>', '<start> ¿Quién? <end>', '<start> ¡Fuego! <end>', '<start> ¡Incendio! <end>']\n"
          ],
          "name": "stdout"
        }
      ]
    },
    {
      "cell_type": "code",
      "metadata": {
        "id": "ewtXZw19FEvT"
      },
      "source": [
        "use_length = 3000\n",
        "source_text = source_text[:use_length]\n",
        "target_text = target_text[:use_length]"
      ],
      "execution_count": null,
      "outputs": []
    },
    {
      "cell_type": "markdown",
      "metadata": {
        "id": "1m6xa5QHEjjK"
      },
      "source": [
        "# 生成id2char，以及char2id"
      ]
    },
    {
      "cell_type": "code",
      "metadata": {
        "id": "aUkmsrZGqBCS",
        "outputId": "6c06945c-0820-4447-d9f0-5c320eed3ce6",
        "colab": {
          "base_uri": "https://localhost:8080/"
        }
      },
      "source": [
        "source_char_id = {}\n",
        "source_char_id[\"<padding>\"] = 0\n",
        "for sentence in source_text:\n",
        "  for char in sentence.split(\" \"):\n",
        "    if char not in source_char_id:\n",
        "      source_char_id[char] = len(source_char_id)\n",
        "print(source_char_id)\n",
        "source_id_char = {source_char_id[key]:key for key in source_char_id.keys()}"
      ],
      "execution_count": null,
      "outputs": [
        {
          "output_type": "stream",
          "text": [
            "{'<padding>': 0, 'Go.': 1, 'Hi.': 2, 'Run!': 3, 'Run.': 4, 'Who?': 5, 'Fire!': 6, 'Help!': 7, 'Jump!': 8, 'Jump.': 9, 'Stop!': 10, 'Wait!': 11, 'Wait.': 12, 'Go': 13, 'on.': 14, 'Hello!': 15, 'I': 16, 'ran.': 17, 'try.': 18, 'won!': 19, 'Oh': 20, 'no!': 21, 'Relax.': 22, 'Smile.': 23, 'Attack!': 24, 'Get': 25, 'up.': 26, 'now.': 27, 'Got': 28, 'it!': 29, 'it?': 30, 'He': 31, 'Hop': 32, 'in.': 33, 'Hug': 34, 'me.': 35, 'fell.': 36, 'know.': 37, 'left.': 38, 'lied.': 39, 'lost.': 40, 'quit.': 41, 'work.': 42, \"I'm\": 43, '19.': 44, 'Listen.': 45, 'No': 46, 'way!': 47, 'Really?': 48, 'Thanks.': 49, 'Try': 50, 'it.': 51, 'We': 52, 'won.': 53, 'Why': 54, 'me?': 55, 'Ask': 56, 'Tom.': 57, 'Awesome!': 58, 'Be': 59, 'calm.': 60, 'cool.': 61, 'fair.': 62, 'kind.': 63, 'nice.': 64, 'Beat': 65, 'Call': 66, 'us.': 67, 'Come': 68, 'on!': 69, 'Drop': 70, 'out!': 71, 'out.': 72, 'away!': 73, 'away.': 74, 'home.': 75, 'slow.': 76, 'Goodbye!': 77, 'Hang': 78, 'came.': 79, 'Help': 80, 'me!': 81, 'Hit': 82, 'Hold': 83, 'agree.': 84, 'bowed.': 85, 'moved.': 86, 'slept.': 87, 'tried.': 88, \"I'll\": 89, 'go.': 90, 'fat.': 91, 'fit.': 92, 'hit!': 93, 'old.': 94, 'shy.': 95, 'wet.': 96, \"It's\": 97, 'OK.': 98, 'Join': 99, 'Keep': 100, 'Me,': 101, 'too.': 102, 'Open': 103, 'Perfect!': 104, 'See': 105, 'you.': 106, 'Show': 107, 'Shut': 108, 'up!': 109, 'Skip': 110, 'So': 111, 'long.': 112, 'Stop': 113, 'Take': 114, 'Tell': 115, 'Tom': 116, 'ate.': 117, 'Wait': 118, 'Wake': 119, 'Wash': 120, 'care.': 121, 'Welcome.': 122, 'Who': 123, 'ate?': 124, 'ran?': 125, 'won?': 126, 'not?': 127, 'You': 128, 'run.': 129, 'Am': 130, 'fat?': 131, 'them.': 132, 'Back': 133, 'off!': 134, 'off.': 135, 'a': 136, 'man.': 137, 'brave.': 138, 'brief.': 139, 'quiet.': 140, 'still.': 141, 'Cheer': 142, 'Cool': 143, 'Cuff': 144, 'him.': 145, \"Don't\": 146, 'Drive': 147, 'Find': 148, 'Fix': 149, 'this.': 150, 'down!': 151, 'down.': 152, 'lost!': 153, 'real!': 154, 'real.': 155, 'ahead!': 156, 'ahead.': 157, 'on': 158, 'Good': 159, 'job!': 160, 'Grab': 161, 'Have': 162, 'fun.': 163, 'spoke.': 164, 'tries.': 165, 'Hi,': 166, 'guys.': 167, 'How': 168, 'cute!': 169, 'deep?': 170, 'Humor': 171, 'Hurry': 172, 'agreed.': 173, 'am': 174, 'ate': 175, 'can': 176, 'did': 177, 'failed.': 178, 'forgot.': 179, 'get': 180, 'by.': 181, 'got': 182, 'phoned.': 183, 'refuse.': 184, 'resign.': 185, 'saw': 186, 'smiled.': 187, 'stayed.': 188, 'talked.': 189, 'use': 190, 'waited.': 191, 'pay.': 192, 'back.': 193, 'bald.': 194, 'done.': 195, 'easy.': 196, 'fine.': 197, 'free!': 198, 'free.': 199, 'full.': 200, 'here.': 201, 'hurt.': 202, 'late.': 203, 'lazy.': 204, 'mean.': 205, 'next.': 206, 'okay.': 207, 'poor.': 208, 'rich.': 209, 'safe.': 210, 'sick.': 211, 'thin.': 212, 'tidy.': 213, 'warm.': 214, 'weak.': 215, 'wise.': 216, \"I've\": 217, 'It': 218, 'helps.': 219, 'hurts.': 220, 'works.': 221, 'his.': 222, 'new.': 223, 'odd.': 224, 'red.': 225, 'sad.': 226, 'Kiss': 227, 'Leave': 228, \"Let's\": 229, 'go!': 230, 'Look': 231, 'Marry': 232, 'May': 233, 'go?': 234, 'Save': 235, 'She': 236, 'died.': 237, 'runs.': 238, 'Sit': 239, 'Speak': 240, 'Stand': 241, 'Stay': 242, 'put.': 243, 'Terrific!': 244, 'They': 245, 'knew.': 246, 'lies.': 247, 'paid.': 248, 'swam.': 249, 'wept.': 250, \"Tom's\": 251, 'Too': 252, 'Trust': 253, 'hard.': 254, 'some.': 255, 'Use': 256, 'Warn': 257, 'Watch': 258, \"We'll\": 259, \"We're\": 260, 'What': 261, 'for?': 262, 'fun!': 263, 'I?': 264, 'came?': 265, 'died?': 266, 'fell?': 267, 'quit?': 268, 'swam?': 269, \"Who's\": 270, 'he?': 271, 'Write': 272, 'After': 273, 'Aim.': 274, 'Answer': 275, 'Birds': 276, 'fly.': 277, 'Bless': 278, 'home!': 279, 'Calm': 280, 'Can': 281, 'we': 282, 'Catch': 283, 'over.': 284, 'soon.': 285, 'Do': 286, 'it': 287, 'Dogs': 288, 'bark.': 289, 'ask.': 290, 'cry.': 291, 'lie.': 292, 'Fantastic!': 293, 'Feel': 294, 'Follow': 295, 'Forget': 296, 'ready.': 297, 'for': 298, 'inside.': 299, 'to': 300, 'bed.': 301, 'that.': 302, 'is': 303, 'shaved.': 304, \"He's\": 305, 'DJ.': 306, 'fast.': 307, 'good.': 308, 'Here': 309, 'am.': 310, 'awful!': 311, 'weird!': 312, \"How's\": 313, 'Tom?': 314, 'busy.': 315, 'beg': 316, 'ski.': 317, 'cringed.': 318, 'fainted.': 319, 'gave': 320, 'hit.': 321, 'hate': 322, 'hit': 323, 'hope': 324, 'so.': 325, 'knew': 326, 'laughed.': 327, 'like': 328, 'love': 329, 'mean': 330, 'miss': 331, 'need': 332, 'one.': 333, 'see': 334, 'tripped.': 335, 'cook.': 336, 'live.': 337, 'sing.': 338, 'stop.': 339, 'wait.': 340, 'walk.': 341, 'pro.': 342, 'alone.': 343, 'angry.': 344, 'awake.': 345, 'blind.': 346, 'broke.': 347, 'crazy.': 348, 'drunk.': 349, 'dying.': 350, 'first.': 351, 'happy.': 352, 'loved.': 353, 'obese.': 354, 'sorry.': 355, 'tired.': 356, 'yours.': 357, 'Ignore': 358, 'Is': 359, 'OK?': 360, 'in?': 361, 'bad?': 362, 'far?': 363, 'you?': 364, 'burned.': 365, 'rained.': 366, 'snowed.': 367, 'stinks.': 368, 'worked.': 369, '3:10.': 370, '8:30.': 371, 'TV.': 372, 'cold.': 373, 'dark.': 374, 'done!': 375, 'hers.': 376, 'mine.': 377, 'ours.': 378, 'time.': 379, 'true!': 380, 'true.': 381, 'Let': 382, 'me': 383, 'us': 384, 'eat.': 385, 'see.': 386, 'try!': 387, 'Lie': 388, 'Listen': 389, 'back!': 390, 'Loosen': 391, 'Move': 392, 'Nice': 393, 'shot!': 394, 'Of': 395, 'course!': 396, 'fire!': 397, 'Pardon': 398, 'Please': 399, 'Put': 400, 'Read': 401, 'Say': 402, 'hello.': 403, 'Search': 404, 'above.': 405, 'Seize': 406, 'him!': 407, 'Seriously?': 408, 'walks.': 409, \"She's\": 410, 'hot.': 411, 'Sign': 412, 'there.': 413, 'tight.': 414, 'Slow': 415, 'Step': 416, 'care!': 417, 'Thank': 418, \"That's\": 419, 'Then': 420, 'what?': 421, 'cared.': 422, 'cares.': 423, 'cried.': 424, 'dozed.': 425, 'drove.': 426, 'knits.': 427, 'knows.': 428, 'rocks.': 429, 'stood.': 430, 'swims.': 431, 'swore.': 432, 'voted.': 433, 'waved.': 434, \"Tom'll\": 435, 'mad.': 436, 'again.': 437, \"We've\": 438, \"What's\": 439, 'up?': 440, 'cares?': 441, 'knows?': 442, 'stood?': 443, \"Who'll\": 444, 'drive.': 445, 'start.': 446, \"You're\": 447, 'Aim': 448, 'higher.': 449, 'All': 450, 'aboard!': 451, 'right?': 452, 'wrong?': 453, 'Are': 454, 'you': 455, '18?': 456, 'anyone.': 457, 'around.': 458, 'careful.': 459, 'content.': 460, 'patient.': 461, 'serious.': 462, 'Bring': 463, 'food.': 464, 'help.': 465, 'wine.': 466, 'come?': 467, 'help?': 468, 'stay?': 469, 'Carry': 470, 'Check': 471, 'Choose': 472, 'along.': 473, 'early.': 474, 'in!': 475, 'quick!': 476, 'Cut': 477, 'Did': 478, 'come': 479, 'men': 480, 'cry?': 481, 'come.': 482, 'jump!': 483, 'look.': 484, 'move!': 485, 'move.': 486, 'talk!': 487, 'talk.': 488, 'yell.': 489, 'Eat': 490, 'slowly.': 491, 'Fire': 492, 'burns.': 493, 'Forgive': 494, 'life.': 495, 'Give': 496, 'God': 497, 'exists.': 498, 'faith.': 499, 'coughed.': 500, 'hung': 501, 'here!': 502, 'tall.': 503, 'made': 504, 'cruel.': 505, 'lying.': 506, 'smart.': 507, 'he': 508, 'is!': 509, 'is.': 510, 'Hey,': 511, 'relax.': 512, 'boring!': 513, 'lovely!': 514, 'tragic!': 515, 'work?': 516, 'admit': 517, 'bored.': 518, 'human.': 519, 'broke': 520, 'jump.': 521, 'read.': 522, 'swim.': 523, 'chuckled.': 524, 'disagree.': 525, 'doubt': 526, 'eat': 527, 'meat.': 528, 'envy': 529, 'feel': 530, 'bad.': 531, 'felt': 532, 'found': 533, 'have': 534, 'hear': 535, 'help': 536, 'know': 537, 'her.': 538, 'art.': 539, 'tea.': 540, 'liked': 541, 'loved': 542, 'must': 543, 'ice.': 544, 'promised.': 545, 'ran': 546, 'remember.': 547, 'resigned.': 548, 'said': 549, 'yes.': 550, 'sat': 551, 'screamed.': 552, 'shot': 553, 'survived.': 554, 'think': 555, 'threw': 556, 'told': 557, 'want': 558, 'one!': 559, 'was': 560, \"won't\": 561, 'work': 562, 'wrote': 563, \"I'd\": 564, 'buy': 565, 'be': 566, 'do': 567, 'go': 568, 'French.': 569, 'hero.': 570, 'liar.': 571, 'twin.': 572, 'better.': 573, 'bushed.': 574, 'buying.': 575, 'clumsy.': 576, 'coming.': 577, 'eating.': 578, 'faster.': 579, 'greedy.': 580, 'hiding.': 581, 'hungry!': 582, 'hungry.': 583, 'immune.': 584, 'moving.': 585, 'normal.': 586, 'scared.': 587, 'single.': 588, 'skinny.': 589, 'sleepy!': 590, 'sleepy.': 591, 'so': 592, 'trying.': 593, 'twelve.': 594, 'eaten.': 595, 'big?': 596, 'fun?': 597, 'hot?': 598, 'ill?': 599, 'mad?': 600, 'out?': 601, 'dead?': 602, 'tall?': 603, 'free?': 604, 'good?': 605, 'here?': 606, 'real?': 607, 'safe?': 608, 'true?': 609, 'that': 610, 'so?': 611, 'this': 612, 'happens.': 613, \"Tom's.\": 614, 'alive.': 615, 'empty.': 616, 'great.': 617, 'green.': 618, 'magic.': 619, 'my': 620, 'CD.': 621, 'night.': 622, 'right.': 623, 'white.': 624, 'windy.': 625, 'Jesus': 626, 'Just': 627, 'notes.': 628, 'quiet!': 629, 'town.': 630, 'him': 631, 'chat.': 632, 'kiss.': 633, 'play.': 634, 'vote.': 635, 'Lift': 636, 'at': 637, 'Love': 638, 'lasts.': 639, 'Mama': 640, 'comment.': 641, 'kidding?': 642, 'problem!': 643, 'problem.': 644, 'sit.': 645, 'Quiet': 646, 'Replace': 647, 'cheese.': 648, 'please.': 649, 'Sing': 650, 'Smell': 651, 'Start': 652, 'alert.': 653, 'close.': 654, 'sharp.': 655, 'aside.': 656, 'Study': 657, 'bus.': 658, 'these.': 659, 'Talk': 660, 'Taste': 661, 'That': 662, 'boy!': 663, \"That'll\": 664, 'do.': 665, 'cheat.': 666, \"They're\": 667, 'This': 668, \"This'll\": 669, 'Time': 670, 'flies.': 671, 'agrees.': 672, 'bit': 673, 'burped.': 674, 'called.': 675, 'cheats.': 676, 'danced.': 677, 'dances.': 678, 'drinks.': 679, 'drives.': 680, 'fought.': 681, 'gasped.': 682, 'goofed.': 683, 'helped.': 684, 'big.': 685, 'ill.': 686, 'jumped.': 687, 'looked.': 688, 'moaned.': 689, 'nodded.': 690, 'obeyed.': 691, 'paused.': 692, 'prayed.': 693, 'sighed.': 694, 'snores.': 695, 'walked.': 696, 'winked.': 697, 'yawned.': 698, 'yelled.': 699, 'die.': 700, 'dead.': 701, 'deaf.': 702, 'glad.': 703, 'gone.': 704, 'shot.': 705, 'ugly.': 706, 'well.': 707, 'Turn': 708, 'Was': 709, 'are': 710, 'men.': 711, 'CDs.': 712, 'win.': 713, 'had': 714, 'fail.': 715, 'even.': 716, 'day!': 717, 'gives?': 718, 'new?': 719, 'Where': 720, 'phoned?': 721, 'stayed?': 722, 'yelled?': 723, 'next?': 724, 'that?': 725, 'Wood': 726, 'called?': 727, 'decide.': 728, 'may': 729, 'missed.': 730, \"You'll\": 731, \"You've\": 732, 'Anyone': 733, 'home?': 734, 'hurt?': 735, 'done?': 736, 'As': 737, 'like.': 738, 'anybody.': 739, 'creative.': 740, 'discreet.': 741, 'merciful.': 742, 'prepared.': 743, 'punctual.': 744, 'sensible.': 745, 'specific.': 746, 'thorough.': 747, 'tolerant.': 748, 'vigilant.': 749, 'watchful.': 750, \"Beer's\": 751, 'begin?': 752, 'wait?': 753, 'talk?': 754, 'see?': 755, 'aboard.': 756, 'closer.': 757, 'Comfort': 758, 'Contact': 759, 'Cook': 760, 'Count': 761, 'die?': 762, 'win?': 763, 'as': 764, 'say.': 765, 'again!': 766, 'later.': 767, 'bowl?': 768, 'argue.': 769, 'fight.': 770, 'laugh.': 771, 'leave!': 772, 'shoot!': 773, 'shout.': 774, 'smile.': 775, 'smoke.': 776, 'speak.': 777, 'worry.': 778, 'Finish': 779, 'Flip': 780, 'coin.': 781, 'dressed.': 782, 'in': 783, 'serious!': 784, 'find': 785, 'home': 786, 'meet': 787, 'straight.': 788, 'way.': 789, 'sleep.': 790, 'with': 791, 'seat.': 792, 'Has': 793, 'grew': 794, 'has': 795, 'come!': 796, 'guts.': 797, 'helps': 798, 'eight.': 799, 'hated.': 800, 'nasty.': 801, 'young.': 802, 'likes': 803, 'stood': 804, 'jerk.': 805, 'faking.': 806, 'not': 807, 'strong.': 808, 'stupid.': 809, 'she': 810, 'are!': 811, 'are.': 812, 'curious!': 813, 'strange!': 814, 'monk.': 815, 'dozing.': 816, 'joking.': 817, 'taller.': 818, 'apologize.': 819, 'asked': 820, 'blame': 821, 'bought': 822, 'share.': 823, \"can't\": 824, 'confessed.': 825, 'cry': 826, 'lot.': 827, \"don't\": 828, 'bread.': 829, 'fruit.': 830, 'dumb.': 831, 'forgot': 832, 'job.': 833, 'cats.': 834, 'dogs.': 835, 'milk.': 836, 'rats.': 837, 'sand.': 838, 'hated': 839, '$300.': 840, 'news.': 841, 'heard': 842, 'hired': 843, 'both.': 844, 'jazz.': 845, 'rice.': 846, 'rock.': 847, 'snow.': 848, 'live': 849, 'beer.': 850, 'fish.': 851, 'golf.': 852, 'kids.': 853, 'math.': 854, 'soup.': 855, 'missed': 856, 'hide.': 857, 'needed': 858, 'never': 859, 'often': 860, 'overslept.': 861, 'pay': 862, 'taxes.': 863, 'read': 864, 'lips.': 865, 'UFO.': 866, 'dog.': 867, 'sell': 868, 'cars.': 869, 'should': 870, 'smell': 871, 'gas.': 872, 'thank': 873, 'trust': 874, 'more.': 875, 'dizzy.': 876, 'fired.': 877, 'lucky.': 878, 'naive.': 879, 'naked.': 880, 'wrong.': 881, 'went': 882, 'went,': 883, 'will': 884, 'won': 885, 'ask': 886, 'change.': 887, 'try': 888, '17,': 889, 'baker.': 890, 'loser.': 891, 'woman.': 892, 'baffled.': 893, 'cooking.': 894, 'curious.': 895, 'dancing.': 896, 'engaged.': 897, 'excited.': 898, 'fasting.': 899, 'finicky.': 900, 'healthy.': 901, 'jail.': 902, 'love.': 903, 'jittery.': 904, 'kidding.': 905, 'leaving.': 906, 'married.': 907, 'nervous.': 908, 'neutral.': 909, 'no': 910, 'psyched.': 911, 'reading.': 912, 'resting.': 913, 'selfish.': 914, 'sloshed.': 915, 'starved.': 916, 'through.': 917, 'too': 918, 'trapped.': 919, 'unlucky.': 920, 'waiting.': 921, 'working.': 922, 'worried.': 923, 'there?': 924, 'windy?': 925, 'yours?': 926, 'nice?': 927, 'all?': 928, 'be!': 929, 'cost': 930, '$30.': 931, 'happened.': 932, 'rain.': 933, 'saved': 934, '50': 935, 'yen.': 936, 'Monday.': 937, 'doll.': 938, 'harp.': 939, 'joke.': 940, 'mess.': 941, 'rule.': 942, 'song.': 943, 'vice.': 944, 'all': 945, 'boring.': 946, 'broken.': 947, 'chilly.': 948, 'cloudy.': 949, 'futile.': 950, 'secret.': 951, 'say': 952, 'no.': 953, 'begin.': 954, 'dance.': 955, 'hurry.': 956, 'leave.': 957, 'party!': 958, 'party.': 959, 'start!': 960, 'Life': 961, 'Make': 962, 'list.': 963, 'wish.': 964, 'Many': 965, 'thanks.': 966, 'Memorize': 967, 'Money': 968, 'talks.': 969, 'timing.': 970, 'means': 971, 'one': 972, 'Nobody': 973, 'Now': 974, 'hold': 975, 'move': 976, 'shut': 977, 'One': 978, 'blue.': 979, 'stay.': 980, 'Release': 981, 'Remember': 982, 'Return': 983, 'fire.': 984, 'goodbye.': 985, 'nothing.': 986, 'Send': 987, 'Shall': 988, 'woke': 989, 'fox.': 990, 'Should': 991, 'how.': 992, 'Sleep': 993, 'aside!': 994, 'crying.': 995, 'moving!': 996, 'Thief!': 997, 'card.': 998, 'rest.': 999, 'action.': 1000, 'car.': 1001, 'Tea,': 1002, 'all.': 1003, 'huge.': 1004, 'The': 1005, \"TV's\": 1006, 'There': 1007, \"There's\": 1008, 'hugged.': 1009, 'kissed.': 1010, 'Think': 1011, 'arrived.': 1012, 'blushed.': 1013, 'changed.': 1014, 'cheated.': 1015, 'cheered.': 1016, 'clapped.': 1017, 'crashed.': 1018, 'decided.': 1019, 'drowned.': 1020, 'escaped.': 1021, 'exhaled.': 1022, 'giggled.': 1023, 'gloated.': 1024, 'grinned.': 1025, 'groaned.': 1026, 'grunted.': 1027, 'OCD.': 1028, 'inhaled.': 1029, 'evil.': 1030, 'kneeled.': 1031, 'listens.': 1032, 'prepaid.': 1033, 'refused.': 1034, 'relaxed.': 1035, 'shouted.': 1036, 'slipped.': 1037, 'sneezed.': 1038, 'teaches.': 1039, 'flaky.': 1040, 'funny.': 1041, 'upset.': 1042, 'Walk': 1043, 'cold?': 1044, 'eggs.': 1045, 'meet.': 1046, 'why.': 1047, 'act.': 1048, 'clean.': 1049, 'going.': 1050, 'twins.': 1051, 'dope!': 1052, 'heel!': 1053, 'jerk!': 1054, 'loss!': 1055, 'mess!': 1056, 'pain!': 1057, 'pity!': 1058, 'team!': 1059, 'an': 1060, 'ego!': 1061, 'art?': 1062, 'this?': 1063, \"Where's\": 1064, 'cheated?': 1065, 'cheered?': 1066, 'drew': 1067, 'escaped?': 1068, 'cook?': 1069, 'first?': 1070, 'going?': 1071, 'Whose': 1072, 'Will': 1073, 'Yes,': 1074, 'hurt': 1075, 'keep': 1076, 'cute.': 1077, 'nuts!': 1078, 'sick!': 1079, 'Abandon': 1080, 'ship!': 1081, 'Act': 1082, 'your': 1083, 'age.': 1084, 'invited?': 1085, 'Anybody': 1086, 'Anything': 1087, 'broke?': 1088, 'bald?': 1089, 'busy?': 1090, 'deaf?': 1091, 'full?': 1092, 'lost?': 1093, 'nuts?': 1094, 'okay?': 1095, 'rich?': 1096, 'sick?': 1097, 'sure?': 1098, 'well?': 1099, 'Mary': 1100, 'attentive.': 1101, 'confident.': 1102, 'merciless.': 1103, 'objective.': 1104, 'realistic!': 1105, 'Bear': 1106, 'Beef,': 1107, 'Boil': 1108, 'egg.': 1109, 'backup.': 1110, 'hat.': 1111, 'the': 1112, 'FBI.': 1113, 'read?': 1114, 'swim?': 1115, 'walk?': 1116, 'and': 1117, 'anytime.': 1118, 'once.': 1119, 'forward.': 1120, 'outside.': 1121, 'quickly!': 1122, 'up': 1123, 'Describe': 1124, 'call?': 1125, 'sign?': 1126, 'look': 1127, 'they': 1128, 'know?': 1129, 'drink?': 1130, 'smoke?': 1131, 'snore?': 1132, 'Does': 1133, 'show?': 1134, 'let': 1135, 'ramble.': 1136, 'scream.': 1137, 'safely.': 1138, 'Examine': 1139, 'Fight': 1140, 'or': 1141, 'cat.': 1142, 'book.': 1143, 'upstairs.': 1144, 'Ghosts': 1145, 'exist.': 1146, 'half.': 1147, 'back': 1148, 'school.': 1149, 'morning.': 1150, 'on,': 1151, 'Happy': 1152, 'Easter!': 1153, 'donut.': 1154, 'drink.': 1155, 'snack.': 1156, 'another.': 1157, 'courage.': 1158, 'avoids': 1159, 'cried': 1160, 'denied': 1161, 'dozed': 1162, 'cranky.': 1163, 'driven.': 1164, 'kicked': 1165, 'lost': 1166, 'face.': 1167, 'loves': 1168, 'runs': 1169, 'seems': 1170, 'bigot.': 1171, 'ninja.': 1172, 'dieting.': 1173, 'pain.': 1174, 'jealous.': 1175, 'out': 1176, \"Here's\": 1177, 'pen.': 1178, 'wait': 1179, 'annoying!': 1180, 'arrogant!': 1181, 'horrible!': 1182, 'romantic!': 1183, 'school?': 1184, 'admire': 1185, 'Chinese.': 1186, 'injured.': 1187, 'praying.': 1188, 'apologized.': 1189, 'apples.': 1190, 'caviar.': 1191, 'lip.': 1192, 'called': 1193, 'fix': 1194, 'could': 1195, 'cut': 1196, 'myself.': 1197, 'detest': 1198, \"didn't\": 1199, 'mind.': 1200, 'drank': 1201, 'faint.': 1202, 'woozy.': 1203, 'framed': 1204, 'carded.': 1205, 'mugged.': 1206, 'doubts.': 1207, 'liars.': 1208, 'opera.': 1209, 'rules.': 1210, 'sushi.': 1211, 'key.': 1212, 'money.': 1213, 'music.': 1214, 'helped': 1215, 'hugged': 1216, 'just': 1217, 'China.': 1218, 'beans.': 1219, 'candy.': 1220, 'chess.': 1221, 'honey.': 1222, 'pizza.': 1223, 'women.': 1224, 'books.': 1225, 'games.': 1226, 'trips.': 1227, 'bet.': 1228, 'misled': 1229, 'cab.': 1230, 'hug.': 1231, 'nap.': 1232, 'paint.': 1233, 'space.': 1234, 'water.': 1235, 'phoned': 1236, 'lion.': 1237, 'star.': 1238, 'speak': 1239, 'sympathize.': 1240, 'understand.': 1241, 'warned': 1242, 'afraid.': 1243, 'framed.': 1244, 'lonely.': 1245, 'twice.': 1246, 'lose!': 1247, 'wonder': 1248, 'risk': 1249, 'sue': 1250, 'ex.': 1251, 'doctor.': 1252, 'farmer.': 1253, 'surfer.': 1254, 'waiter.': 1255, 'writer.': 1256, 'ears.': 1257, 'actor.': 1258, 'adult.': 1259, 'agent.': 1260, 'anorexic.': 1261, 'autistic.': 1262, 'barefoot.': 1263, 'confused.': 1264, 'divorced.': 1265, 'doubtful.': 1266, 'drowning.': 1267, 'educated.': 1268, 'famished.': 1269, 'free': 1270, 'freezing.': 1271, 'grateful.': 1272, 'grieving.': 1273, 'gullible.': 1274, 'hesitant.': 1275, 'Perth.': 1276, 'innocent.': 1277, 'literate.': 1278, 'new': 1279, 'angel.': 1280, 'rebel.': 1281, 'sure.': 1282, 'painting.': 1283, 'pregnant.': 1284, 'rational.': 1285, 'relieved.': 1286, 'restless.': 1287, 'shopping.': 1288, 'sleeping.': 1289, 'tired!': 1290, 'starving!': 1291, 'still': 1292, 'stubborn.': 1293, 'studying.': 1294, 'best.': 1295, 'thinking.': 1296, 'thirteen.': 1297, 'thrilled.': 1298, 'very': 1299}\n"
          ],
          "name": "stdout"
        }
      ]
    },
    {
      "cell_type": "code",
      "metadata": {
        "id": "_ZgFwjAkrMHP",
        "outputId": "a048acd9-7265-4e15-a078-e5ae3074f22b",
        "colab": {
          "base_uri": "https://localhost:8080/"
        }
      },
      "source": [
        "target_char_id = {}\n",
        "target_char_id[\"<padding>\"] = 0\n",
        "for sentence in target_text:\n",
        "  for char in sentence.split(\" \"):\n",
        "    if char not in target_char_id:\n",
        "      target_char_id[char] = len(target_char_id)\n",
        "print(target_char_id)\n",
        "target_id_char = {target_char_id[key]:key for key in target_char_id.keys()}"
      ],
      "execution_count": null,
      "outputs": [
        {
          "output_type": "stream",
          "text": [
            "{'<padding>': 0, '<start>': 1, 'Ve.': 2, '<end>': 3, 'Vete.': 4, 'Vaya.': 5, 'Váyase.': 6, 'Hola.': 7, '¡Corre!': 8, 'Corred.': 9, '¿Quién?': 10, '¡Fuego!': 11, '¡Incendio!': 12, '¡Disparad!': 13, '¡Ayuda!': 14, '¡Socorro!': 15, '¡Auxilio!': 16, '¡Salta!': 17, 'Salte.': 18, '¡Parad!': 19, '¡Para!': 20, '¡Pare!': 21, '¡Espera!': 22, 'Esperen.': 23, 'Continúa.': 24, 'Continúe.': 25, 'Corrí.': 26, 'Corría.': 27, 'Lo': 28, 'intento.': 29, '¡He': 30, 'ganado!': 31, '¡Oh,': 32, 'no!': 33, 'Tomátelo': 34, 'con': 35, 'soda.': 36, 'Sonríe.': 37, '¡Al': 38, 'ataque!': 39, '¡Atacad!': 40, 'Levanta.': 41, 'Ve': 42, 'ahora': 43, 'mismo.': 44, '¡Lo': 45, 'tengo!': 46, '¿Lo': 47, 'pillas?': 48, '¿Entendiste?': 49, 'Él': 50, 'corrió.': 51, 'Métete': 52, 'adentro.': 53, 'Abrázame.': 54, 'Me': 55, 'caí.': 56, 'Yo': 57, 'lo': 58, 'sé.': 59, 'Salí.': 60, 'Mentí.': 61, 'Perdí.': 62, 'Dimito.': 63, 'Renuncié.': 64, 'Estoy': 65, 'trabajando.': 66, 'Tengo': 67, 'diecinueve.': 68, 'levantado.': 69, 'Escucha.': 70, 'Escuche.': 71, 'Escuchen.': 72, '¡No': 73, 'puede': 74, 'ser!': 75, 'De': 76, 'ninguna': 77, 'manera.': 78, '¡De': 79, 'manera!': 80, '¡Imposible!': 81, 'ningún': 82, 'modo!': 83, 'eso': 84, 'nada!': 85, '¡Ni': 86, 'cagando!': 87, '¡Mangos!': 88, '¡Minga!': 89, 'en': 90, 'pedo!': 91, '¿En': 92, 'serio?': 93, '¿La': 94, 'verdad?': 95, '¡Gracias!': 96, 'Gracias.': 97, 'Pruébalo.': 98, 'procuramos.': 99, 'Ganamos.': 100, '¿Por': 101, 'qué': 102, 'yo?': 103, 'Pregúntale': 104, 'a': 105, 'Tom.': 106, '¡Órale!': 107, 'Mantente': 108, 'calma.': 109, 'Estate': 110, 'tranquilo.': 111, 'Sé': 112, 'justo.': 113, 'Sean': 114, 'gentiles.': 115, 'agradable.': 116, 'Pírate.': 117, 'Llamame.': 118, 'Llamadme.': 119, 'Llámame.': 120, 'Llámanos.': 121, 'Entre.': 122, 'Pase.': 123, '¡Entren!': 124, 'Ándale.': 125, 'Suéltalo.': 126, 'Agarra': 127, 'Bájate.': 128, 'Sal.': 129, 'Salid.': 130, 'Salgan.': 131, '¡Vete': 132, 'de': 133, 'aquí!': 134, '¡Lárgate!': 135, '¡Salga': 136, '¡Largo!': 137, 'ya!': 138, '¡A': 139, 'la': 140, 'calle!': 141, 'Lárguese.': 142, 'Vete': 143, 'casa.': 144, 'Vaya': 145, 'despacio.': 146, '¡Hasta': 147, 'luego!': 148, 'Hasta': 149, 'vista.': 150, '¡Chau!': 151, '¡Espera': 152, 'un': 153, 'momento!': 154, '¡Un': 155, 'segundo!': 156, 'fuertemente.': 157, 'vino.': 158, 'renunció.': 159, 'Ayúdame.': 160, 'Échame': 161, 'una': 162, 'mano.': 163, 'Ayudame.': 164, 'Ayúdanos.': 165, 'Golpea': 166, 'Espera.': 167, 'Resista.': 168, 'Resiste.': 169, 'Abraza': 170, 'acuerdo.': 171, 'incliné.': 172, 'he': 173, 'mudado.': 174, 'mudé.': 175, 'trasladé.': 176, 'trasladado.': 177, 'Dormí.': 178, 'intenté.': 179, 'Iré.': 180, 'Soy': 181, 'gordo.': 182, 'gorda.': 183, 'forma.': 184, 'afectado.': 185, 'viejo.': 186, 'tímido.': 187, 'mojada.': 188, 'Está': 189, 'bien.': 190, 'yo.': 191, 'Únete': 192, 'nosotros.': 193, 'parte': 194, 'nuestra.': 195, 'Guárdalo.': 196, 'Yo,': 197, 'también.': 198, 'Abre.': 199, '¡Perfecto!': 200, 'Nos': 201, 'vemos.': 202, 'Muéstramelo.': 203, 'Enséñamelo.': 204, 'Mostrame.': 205, '¡Cierra': 206, 'boca!': 207, '¡Cerrá': 208, 'el': 209, 'pico!': 210, 'Sáltatelo.': 211, 'luego.': 212, 'Páralo.': 213, 'Deténlo.': 214, 'Cógelo.': 215, 'Decime.': 216, 'Tom': 217, 'comió.': 218, 'ganó.': 219, 'Espérame': 220, 'despierto.': 221, '¡Despierta!': 222, '¡Despiértate!': 223, '¡Despertate!': 224, 'Despierta.': 225, 'Lávate': 226, 'las': 227, 'manos.': 228, 'preocupamos.': 229, 'sabemos.': 230, 'Perdimos.': 231, 'Bienvenidos.': 232, 'Bienvenidas.': 233, '¿Quién': 234, 'comió?': 235, 'corría?': 236, 'corrió?': 237, 'ganó?': 238, 'ha': 239, 'ganado?': 240, 'no?': 241, 'Corre.': 242, 'Has': 243, 'ganado.': 244, '¿Estoy': 245, 'gordo?': 246, 'Preguntales.': 247, 'Pregúntales.': 248, 'Aparta.': 249, 'Apártate.': 250, 'hombre.': 251, 'fuerte.': 252, 'breve.': 253, 'Sea': 254, 'breves.': 255, 'quieto.': 256, 'No': 257, 'te': 258, 'muevas.': 259, '¡Llamalo': 260, 'Tomás!': 261, '¡Llámalo': 262, '¡Llámenlo': 263, 'Anímate.': 264, 'Venga.': 265, '¡Cálmate!': 266, 'Espósale.': 267, 'vayas.': 268, 'Encontralo': 269, 'Tomás.': 270, 'Encuéntralo': 271, 'Encuéntrelo': 272, 'Encuéntrenlo': 273, 'Encuentre': 274, 'Encuentren': 275, 'Arregla': 276, 'esto.': 277, 'Ponte': 278, 'ello.': 279, 'Abajo.': 280, 'Túmbate.': 281, '¡Piérdete!': 282, 'Esfúmate.': 283, '¡Piénsalo': 284, 'bien!': 285, 'Abre': 286, 'los': 287, 'ojos.': 288, 'Adelante.': 289, 'Entra.': 290, 'Entren.': 291, 'Entrá.': 292, 'Entrad.': 293, '¡Buen': 294, 'trabajo!': 295, 'Sujeta': 296, 'Agárralo.': 297, 'Diviértanse.': 298, 'Pásala': 299, 'Pásenla': 300, 'habló.': 301, 'intenta.': 302, 'prueba.': 303, 'Ayuda': 304, 'Ayúdalo.': 305, 'Hola,': 306, '¿qué': 307, 'hay?': 308, 'Ey,': 309, 'chavales.': 310, '¿Qué': 311, 'pasa,': 312, 'troncos?': 313, 'Buenas.': 314, 'tal': 315, 'os': 316, 'va?': 317, 'Hola': 318, 'por': 319, 'aquí.': 320, '¡Qué': 321, 'encanto!': 322, 'tan': 323, 'profundo?': 324, '¿Cómo': 325, 'Hazme': 326, 'favor.': 327, 'Compláceme.': 328, '¡Date': 329, 'prisa!': 330, 'Apresúrate.': 331, 'Convine.': 332, 'Acepté.': 333, 'Accedí.': 334, 'comí.': 335, 'Puedo': 336, 'ir.': 337, 'hice': 338, 'hice.': 339, 'Fracasé.': 340, 'olvidé.': 341, 'arreglo.': 342, 'entiendo.': 343, 'tengo.': 344, 'Llamé': 345, 'teléfono.': 346, 'niego.': 347, 'Renuncio.': 348, 'vi.': 349, 'Sonreí.': 350, 'quedé.': 351, 'Hablé.': 352, 'Hablaba.': 353, 'Charlé.': 354, 'Charlaba.': 355, 'uso.': 356, 'Esperé.': 357, 'pagaré.': 358, 'He': 359, 'vuelto.': 360, 'vuelta.': 361, 'calvo.': 362, 'calmado.': 363, 'terminado.': 364, 'bastante': 365, 'facilón.': 366, 'perfectamente.': 367, '¡Soy': 368, 'libre!': 369, 'soy': 370, 'libre.': 371, 'lleno.': 372, 'llena.': 373, 'Ya': 374, 'me': 375, 'llené.': 376, 'herido.': 377, 'Llego': 378, 'tarde.': 379, 'vago.': 380, 'perdida.': 381, 'malo.': 382, 'toca': 383, 'mí.': 384, 'pobre.': 385, 'rica.': 386, 'rico.': 387, 'salvo.': 388, 'enferma.': 389, 'delgado.': 390, 'limpio.': 391, 'calentito.': 392, 'débil.': 393, 'listo.': 394, 'Gané.': 395, 'Eso': 396, 'ayuda.': 397, 'Duele.': 398, 'Funciona.': 399, 'Es': 400, 'divertido.': 401, 'suyo.': 402, 'nuevo.': 403, 'extraño.': 404, 'rojo.': 405, 'triste.': 406, 'Prohibido': 407, 'pasar.': 408, 'entrar.': 409, 'Besá': 410, 'Besa': 411, 'Besen': 412, 'Déjalo.': 413, 'Déjame.': 414, 'Déjanos.': 415, 'Vamos.': 416, 'Cuidado.': 417, 'Cásate': 418, 'conmigo.': 419, '¿Puedo': 420, 'ir?': 421, 'Salva': 422, 'Ella': 423, 'murió.': 424, 'corre.': 425, '¡Sentate!': 426, 'Siéntate.': 427, 'Siéntate': 428, '¡Hable': 429, 'más': 430, 'fuerte!': 431, 'Habla': 432, '¡Habla': 433, 'alto!': 434, 'Prepárate.': 435, 'Un': 436, 'momento.': 437, '¡Parate!': 438, 'pie!': 439, 'Detén': 440, 'Llévate': 441, 'Díselo': 442, '¡Genial!': 443, 'Ellos': 444, 'ganaron.': 445, 'muerto.': 446, 'se': 447, 'cayó.': 448, 'sabía.': 449, 'tenía': 450, 'constancia': 451, 'fue.': 452, 'mintió.': 453, 'Tomás': 454, 'miente.': 455, 'perdió.': 456, 'pagó.': 457, 'nadó.': 458, 'lloró.': 459, 'Demasiado': 460, 'Confía': 461, 'Inténtalo': 462, 'veras.': 463, 'Prueba': 464, 'poco.': 465, 'Pruebe': 466, 'Prueben': 467, 'Probá': 468, 'Usa': 469, 'Avísale': 470, 'Avísele': 471, 'Avísenle': 472, 'Avisale': 473, 'Mírame.': 474, 'Vigílame.': 475, 'Obsérvame.': 476, 'Obsérvalos.': 477, 'Obsérvanos.': 478, 'Estamos': 479, 'intentamos.': 480, 'Iremos.': 481, '¿Para': 482, 'qué?': 483, 'divertido!': 484, 'vino?': 485, 'murió?': 486, 'calló?': 487, 'cayó?': 488, 'ido?': 489, 'dejado?': 490, 'nadó?': 491, 'es': 492, 'él?': 493, 'Escríbeme.': 494, 'Después': 495, 'ti.': 496, 'Tú': 497, 'primero.': 498, 'Usted': 499, 'usted.': 500, 'vosotras.': 501, 'Apunta.': 502, 'Respóndeme.': 503, 'Respondedme.': 504, 'Respóndanme.': 505, 'Los': 506, 'pájaros': 507, 'vuelan.': 508, 'Jesús.': 509, '¡Llama': 510, 'casa!': 511, 'Cálmate.': 512, 'Tranquilízate.': 513, 'Bajá': 514, 'cambio.': 515, '¿Podemos': 516, 'irnos?': 517, 'marcharnos?': 518, '¡Atrápelo': 519, 'Captúralo.': 520, 'Captúrenlo.': 521, 'Atrápenlo.': 522, 'Atrápalo.': 523, 'Vuelve.': 524, 'Vení.': 525, 'Ven.': 526, 'Venid': 527, 'Ven': 528, 'Vente.': 529, 'Veníos.': 530, 'Venga': 531, 'Vuelve': 532, 'pronto.': 533, 'Hazlo': 534, 'ahora.': 535, 'perros': 536, 'ladran.': 537, 'preguntes.': 538, 'llores.': 539, 'llorés!': 540, 'llores!': 541, 'lloren.': 542, 'mintáis.': 543, 'corras.': 544, '¡Fantástico!': 545, '¡Es': 546, 'estupendo!': 547, 'Tienta': 548, 'Tiente': 549, 'Tienten': 550, 'Tentad': 551, 'Tentá': 552, 'Sígueme.': 553, 'Seguidme.': 554, 'Síguenos.': 555, 'Olvídame.': 556, 'Olvídate': 557, 'Olvídenme.': 558, 'Olvídense': 559, 'Preparaos.': 560, 'cogerlo.': 561, 'Id': 562, 'cama.': 563, 'Coge': 564, 'alguno.': 565, 'Toma': 566, 'algo.': 567, 'Tome': 568, 'anciano.': 569, 'afeitó.': 570, 'Sonrió.': 571, 'DJ.': 572, 'veloz.': 573, 'bueno.': 574, 'Acá': 575, 'estoy.': 576, 'Sostén': 577, 'horror!': 578, 'raro!': 579, 'está': 580, 'Tom?': 581, 'Divierte': 582, 'ocupada.': 583, 'Te': 584, 'ruego.': 585, 'suplico.': 586, 'volar.': 587, 'correr.': 588, 'esquiar.': 589, 'Sentí': 590, 'vergüenza.': 591, 'Perdí': 592, 'consciencia.': 593, 'Quedé': 594, 'inconsciente.': 595, 'dejé.': 596, 'rendí.': 597, 'Tiré': 598, 'toalla.': 599, 'Cedí.': 600, 'pillo.': 601, 'dieron.': 602, 'alcanzaron.': 603, 'odio.': 604, 'seca.': 605, 'baja.': 606, 'Golpeo': 607, 'espero.': 608, 'reí.': 609, 'gusta.': 610, 'adoro!': 611, 'encanta.': 612, 'Hablo': 613, 'serio.': 614, 'digo': 615, 'echo': 616, 'falta.': 617, 'menos.': 618, 'añoro.': 619, 'necesito.': 620, 'Vi': 621, 'Le': 622, 'uno.': 623, 'Veía': 624, 'visto.': 625, 'Veo': 626, 'tropecé.': 627, 'cocinaré.': 628, 'guisaré.': 629, 'Viviré.': 630, 'Cantaré.': 631, 'Pararé.': 632, 'dejaré.': 633, 'Esperaré.': 634, 'Aguardaré.': 635, 'Caminaré.': 636, 'Andaré.': 637, 'Voy': 638, 'trabajar.': 639, 'pro.': 640, 'solo.': 641, 'sola.': 642, 'estoy': 643, 'enojado.': 644, 'enojada.': 645, 'ciega.': 646, 'sin': 647, 'dinero.': 648, 'quebrado.': 649, 'blanca.': 650, 'tengo': 651, 'loco.': 652, 'borracho.': 653, 'tomada.': 654, 'prendida.': 655, 'muriendo.': 656, 'voy': 657, 'feliz.': 658, 'amado.': 659, 'amada.': 660, 'obeso.': 661, 'siento.': 662, 'cansado.': 663, 'cansada.': 664, 'tuyo.': 665, 'tuya.': 666, 'perdido.': 667, 'Ólvidalo.': 668, 'hagas': 669, 'caso.': 670, '¿Está': 671, 'bien': 672, '¿Es': 673, 'grave?': 674, 'malo?': 675, 'lejos?': 676, '¿Eres': 677, 'tú?': 678, 'Se': 679, 'quemó.': 680, 'consiguió.': 681, 'Falló.': 682, 'Fracasó.': 683, 'Llovió.': 684, 'Nevó.': 685, 'Apesta.': 686, 'Funcionó.': 687, 'Son': 688, 'tres': 689, 'y': 690, 'diez.': 691, '8:30.': 692, 'televisor.': 693, 'Hace': 694, 'frío.': 695, 'fresco.': 696, 'oscuro.': 697, '¡Está': 698, 'listo!': 699, 'perfecto.': 700, 'ella.': 701, 'mío.': 702, 'mía.': 703, 'buen': 704, 'tiempo.': 705, 'Vale.': 706, 'nuestro.': 707, 'terminó.': 708, 'acabó.': 709, 'Ha': 710, 'llegado': 711, 'hora.': 712, 'verdad!': 713, 'verdad.': 714, 'mi': 715, 'trabajo.': 716, 'Guárdalos.': 717, 'Quédatelos.': 718, 'Guárdenselos.': 719, 'Guarda': 720, 'Guarde': 721, 'Guardá': 722, 'Guardad': 723, 'Guarden': 724, 'caliente.': 725, 'Manténgase': 726, 'Mantenete': 727, 'abrigado.': 728, 'Manténganse': 729, 'calientes.': 730, 'abrigados.': 731, 'Dejalo': 732, 'Déjalo': 733, 'Déjelo': 734, 'Ahora': 735, 'márchate.': 736, 'vete.': 737, 'lárgate.': 738, '¡Déjame': 739, 'marchar!': 740, '¡Suéltame!': 741, '¡Déjeme': 742, 'ir!': 743, 'Déjame': 744, 'Déjeme': 745, 'Déjanos': 746, 'Comamos.': 747, 'Veamos.': 748, '¡Intentémoslo!': 749, 'Túmbate': 750, 'silencio.': 751, 'quieto': 752, 'suelo.': 753, 'Escuchá.': 754, 'Mirá': 755, 'para': 756, 'otro': 757, 'lado.': 758, 'Mira': 759, 'Mire': 760, 'Miren': 761, '¡Mira': 762, 'hacia': 763, 'atrás!': 764, 'atrás.': 765, 'Mirad': 766, 'Aflójalo.': 767, 'Suéltala.': 768, 'Aflójala.': 769, 'Hazte': 770, 'Deja': 771, 'sitio.': 772, 'Mueve': 773, 'culo.': 774, 'tiro!': 775, '¡Por': 776, 'supuesto!': 777, '¡Fuego': 778, 'discreción!': 779, '¿Perdona?': 780, 'Por': 781, 'favor,': 782, 've.': 783, 'váyase.': 784, 'Póntelo.': 785, 'Póngaselo.': 786, 'Lee': 787, 'Lea': 788, 'Lean': 789, 'Leed': 790, 'Decí': 791, 'hola.': 792, 'A': 793, 'mí': 794, 'que': 795, 'registren.': 796, 'Véase': 797, 'arriba.': 798, 'él!': 799, '¡Cogedlo!': 800, '¡Arrestadlo!': 801, '¡Prendedlo!': 802, '¡Capturadlo!': 803, 'intentó.': 804, 'probó.': 805, 'anda.': 806, 'camina.': 807, 'Anda.': 808, 'candente.': 809, 'como': 810, 'tren.': 811, 'toma': 812, 'pan': 813, 'moja.': 814, 'buena.': 815, 'cruje.': 816, 'Firme': 817, 'Firma': 818, 'Firmen': 819, 'Firmá': 820, 'Firmad': 821, 'no': 822, 'quédate': 823, 'Sentate': 824, 'ahí.': 825, 'mantente.': 826, 'Quieto.': 827, 'Más': 828, 'Fuera.': 829, 'Aléjate.': 830, 'Mantén': 831, 'Mantené': 832, 'Quedate': 833, 'acá.': 834, 'Da': 835, 'paso': 836, 'Para': 837, 'Párate': 838, 'Detente': 839, 'Deténgase': 840, 'Deténganse': 841, 'Paraos': 842, 'Parad': 843, 'eso.': 844, 'Deténlos.': 845, 'Párales.': 846, '¡Cuidate!': 847, '¡Te': 848, 'cuidas!': 849, 'Cuídate.': 850, 'Cuidaos.': 851, 'Asume': 852, 'mando.': 853, 'control.': 854, 'Encárgate': 855, 'tú.': 856, 'Tomen': 857, 'Tomá': 858, 'Gracias': 859, 'es.': 860, 'Ese': 861, '¿Entonces': 862, 'Cayeron.': 863, 'fueron.': 864, 'marcharon.': 865, 'iban.': 866, 'Perdieron.': 867, 'inclinó.': 868, 'preocupó.': 869, 'preocupaba.': 870, 'le': 871, 'importaba.': 872, 'preocupa.': 873, 'importa.': 874, 'dormitó.': 875, 'condujo.': 876, 'dentro.': 877, 'teje.': 878, 'sabe.': 879, 'mudó.': 880, 'movió.': 881, 'mece.': 882, 'quedó.': 883, 'nada.': 884, 'juró.': 885, 'votó.': 886, 'saludó.': 887, 'trabaja.': 888, 'irá.': 889, 'Intentadlo': 890, 'otra': 891, 'vez.': 892, 'Intenta': 893, 'Pruébatelo.': 894, 'Espera': 895, 'Aguarda': 896, 'Esperen': 897, 'Esperad': 898, 'Vigila': 899, '¡Abusado!': 900, 'Podemos': 901, 'irnos.': 902, 'podemos': 903, 'marchar.': 904, 'Fallamos.': 905, 'Hemos': 906, 'fallado.': 907, 'olvidamos.': 908, 'vimos.': 909, 'veíamos.': 910, 'Conversamos.': 911, 'Nosotros': 912, 'esperamos.': 913, 'veremos.': 914, 'intentaremos.': 915, '¡Hemos': 916, '¿A': 917, 'quién': 918, 'importa?': 919, 'es?': 920, 'Aabe...': 921, 'quedó?': 922, 'irá?': 923, 'Escribe': 924, 'maneja.': 925, 'empieza.': 926, 'intentaste.': 927, 'estás': 928, 'Estás': 929, 'alto.': 930, 'Apuntad': 931, '¡Todos': 932, 'bordo!': 933, '¿Tengo': 934, 'razón?': 935, '¿Me': 936, 'equivoco?': 937, 'equivocada?': 938, '¡Respóndale': 939, '¡Respondele': 940, '¡Respóndanle': 941, '¿Tienes': 942, 'dieciocho?': 943, '¿Has': 944, 'cumplido': 945, '¿Estás': 946, 'bien?': 947, '¿Te': 948, 'apuntas?': 949, 'dentro?': 950, 'levantado?': 951, 'cualquiera.': 952, 'Preguntadle': 953, 'Pregúntele': 954, 'Pregúntenle': 955, 'Pregunta': 956, 'alrededores.': 957, '¡Ten': 958, 'cuidado!': 959, '¡Sé': 960, 'cuidadoso!': 961, 'contento.': 962, 'Llega': 963, 'Llegue': 964, 'paciente.': 965, 'cantan.': 966, 'están': 967, 'cantando.': 968, 'Traed': 969, 'comida.': 970, 'Trae': 971, 'venir?': 972, 'acercarme?': 973, 'ayudar?': 974, 'puedo': 975, 'quedar?': 976, 'Lleva': 977, 'Comprobad': 978, 'Comprueba': 979, 'Escoge': 980, 'Vénganse.': 981, 'Vení': 982, 'temprano.': 983, 'Vengan': 984, '¡Pásale!': 985, '¡Pásele!': 986, '¡Pásenle!': 987, '¡Ven': 988, 'rápido!': 989, '¡Vení': 990, '¡Ya': 991, 'párale!': 992, '¿Fue': 993, 'Pasa': 994, 'Entra': 995, 'ya.': 996, '¿Los': 997, 'hombres': 998, 'lloran?': 999, 'vengas.': 1000, 'saltéis!': 1001, 'miréis.': 1002, 'mováis!': 1003, 'mueva.': 1004, 'muevan.': 1005, 'cantes.': 1006, 'canten.': 1007, 'pares.': 1008, 'hables!': 1009, 'hables.': 1010, 'esperes!': 1011, 'esperen!': 1012, 'esperes.': 1013, 'grites.': 1014, 'Come': 1015, '¡Comé': 1016, 'despacio!': 1017, 'El': 1018, 'fuego': 1019, 'quema.': 1020, 'Seguilo': 1021, 'Síguelo': 1022, 'Sígalo': 1023, 'Síganlo': 1024, 'Síguele.': 1025, 'Síguelo.': 1026, 'Olvidate': 1027, 'Olvídese': 1028, 'Olvídenlo.': 1029, 'Perdónanos.': 1030, 'Perdónenos.': 1031, 'Consíguete': 1032, 'vida.': 1033, 'Váyase': 1034, 'ver': 1035, 'Andá': 1036, 'Dios': 1037, 'existe.': 1038, 'Ten': 1039, 'fe.': 1040, 'Tened': 1041, 'Tengan': 1042, 'Confíen.': 1043, 'salió': 1044, 'comer.': 1045, 'Tosió.': 1046, 'rindió.': 1047, 'dejó.': 1048, 'Cedió.': 1049, 'Tiró': 1050, 'Descolgó.': 1051, 'cogió': 1052, '¡Él': 1053, 'gentil.': 1054, 'amable.': 1055, 'generoso.': 1056, 'mezquino.': 1057, 'reía.': 1058, 'hizo': 1059, 'él.': 1060, 'logró.': 1061, 'hizo.': 1062, 'arruinado.': 1063, 'cruel.': 1064, 'mintiendo.': 1065, 'inteligente.': 1066, '¡Helo': 1067, '¡Aquí': 1068, 'Aquí': 1069, 'está.': 1070, 'vamos.': 1071, 'Hey,': 1072, 'cálmate.': 1073, 'aburrimiento!': 1074, 'bonito!': 1075, '¡Encantador!': 1076, 'preciosidad!': 1077, 'trágico!': 1078, 'trabajo?': 1079, 'van': 1080, 'cosas': 1081, 'Rápido,': 1082, 'Corre,': 1083, 'vete': 1084, 'admito.': 1085, 'persona.': 1086, 'aburrida.': 1087, 'feliz!': 1088, '¡Estoy': 1089, 'humano.': 1090, 'fisurado.': 1091, 'rompí.': 1092, 'ayudar.': 1093, 'saltar.': 1094, 'leer.': 1095, 'cantar.': 1096, 'nadar.': 1097, 'Solté': 1098, 'risita.': 1099, 'dudo.': 1100, 'Como': 1101, 'carne.': 1102, 'Envidio': 1103, 'envidio.': 1104, 'siento': 1105, 'mal.': 1106, 'sentía': 1107, 'encontré.': 1108, 'perdí.': 1109, 'puse': 1110, 'enfermo.': 1111, 'Odio': 1112, 'detesto.': 1113, 'oigo.': 1114, 'ayudo.': 1115, 'Conocí': 1116, 'Conozco': 1117, 'La': 1118, 'conozco.': 1119, 'agrada': 1120, 'gusta': 1121, 'arte.': 1122, 'té.': 1123, 'agradas.': 1124, 'gustó.': 1125, 'amo': 1126, 'amo.': 1127, 'quiero.': 1128, 'amo!': 1129, 'Os': 1130, 'encantó.': 1131, 'Echo': 1132, 'menos': 1133, 'Necesito': 1134, 'hielo.': 1135, 'Prometí.': 1136, 'fui': 1137, 'corriendo': 1138, 'apresuré': 1139, 'ir': 1140, 'recuerdo.': 1141, 'Dije': 1142, 'sí.': 1143, 'decía': 1144, 'senté.': 1145, 'sentaba.': 1146, 'Grité.': 1147, 'grité.': 1148, 'veo.': 1149, 'Las': 1150, 'Disparé': 1151, 'Sobreviví.': 1152, 'Creo': 1153, 'creo.': 1154, 'Vomité.': 1155, 'dije': 1156, 'dicho': 1157, 'Uso': 1158, 'Utilizo': 1159, 'Quiero': 1160, '¡Quiero': 1161, 'uno!': 1162, 'una!': 1163, 'quiero': 1164, 'Llegué': 1165, 'estaba': 1166, 'hago': 1167, 'ejercicio.': 1168, 'escribí.': 1169, 'compraría.': 1170, 'Estaré': 1171, 'haré': 1172, 'haré.': 1173, 'Entraré.': 1174, 'francés.': 1175, 'héroe.': 1176, 'mentiroso.': 1177, 'gemelo.': 1178, 'mejor.': 1179, 'agotado.': 1180, 'comprando.': 1181, 'torpe.': 1182, 'Ahí': 1183, 'voy.': 1184, 'comiendo.': 1185, 'rápido.': 1186, 'codicioso.': 1187, 'escondido.': 1188, 'hambre.': 1189, 'pica': 1190, 'bagre.': 1191, 'inmune.': 1192, 'moviendo.': 1193, 'mudaré.': 1194, 'normal.': 1195, 'asustado.': 1196, 'soltero.': 1197, 'soltera.': 1198, 'flacucho.': 1199, '¡Tengo': 1200, 'sueño!': 1201, 'sueño.': 1202, 'intentando.': 1203, 'esforzando.': 1204, 'doce': 1205, 'años.': 1206, 'doce.': 1207, 'comido.': 1208, 'Ignora': 1209, 'grande': 1210, 'gordo': 1211, '¿Tom': 1212, 'divertido?': 1213, '¿Tiene': 1214, 'calor': 1215, 'enfermo?': 1216, 'loco': 1217, 'fuera': 1218, 'muerto?': 1219, 'alto?': 1220, 'gratis?': 1221, 'bueno?': 1222, 'acá?': 1223, '¿Aquí?': 1224, 'aquí?': 1225, '¿Esto': 1226, 'real?': 1227, 'seguro?': 1228, '¿Vale': 1229, 'eso?': 1230, '¿Eso': 1231, 'todo?': 1232, 'ese?': 1233, '¿Acaso': 1234, 'así?': 1235, 'este?': 1236, 'pasa.': 1237, 'vivo.': 1238, 'vacío.': 1239, 'estupendo.': 1240, 'grandioso.': 1241, 'verde.': 1242, 'magia.': 1243, 'CD.': 1244, 'noche.': 1245, 'anochecido.': 1246, 'correcto.': 1247, 'blanco.': 1248, 'viento.': 1249, 'Jesús': 1250, 'Tan': 1251, 'sólo': 1252, 'hazlo.': 1253, '¡Continúa!': 1254, '¡Continúe!': 1255, 'apuntes.': 1256, 'Tomad': 1257, 'notas.': 1258, '¡Quédate': 1259, 'tranquilo!': 1260, '¡Guarden': 1261, 'silencio!': 1262, 'quietos.': 1263, 'Abandona': 1264, 'ciudad.': 1265, 'Sal': 1266, 'Dejar': 1267, 'entrar': 1268, '¡Déjale': 1269, 'irse!': 1270, 'vaya.': 1271, 'Déjenlo': 1272, 'Dejadlo': 1273, 'salir!': 1274, '¡Dejadme': 1275, 'pague': 1276, 'ver.': 1277, 'Charlemos.': 1278, 'Vamos': 1279, 'charlar.': 1280, 'Besémonos.': 1281, 'Juguemos.': 1282, 'Desistamos.': 1283, 'Renunciemos.': 1284, 'Cantemos.': 1285, 'Nademos.': 1286, 'Conversemos.': 1287, 'Votemos.': 1288, 'Caminemos.': 1289, 'Trabajemos.': 1290, 'Levántalo.': 1291, 'adelante.': 1292, 'Míralo.': 1293, 'Obsérvalo.': 1294, 'Contémplalo.': 1295, 'Míranos.': 1296, 'Búscalo.': 1297, 'Búsquenlo.': 1298, 'allí.': 1299, 'amor': 1300, 'dura.': 1301, 'Mamá': 1302, 'Sin': 1303, 'comentarios.': 1304, 'hay': 1305, 'problema!': 1306, '¡Sin': 1307, 'problemas!': 1308, 'Ningún': 1309, 'problema.': 1310, 'siéntese.': 1311, 'siéntate.': 1312, 'sentaos.': 1313, 'Baja': 1314, 'voz.': 1315, 'Reemplazadlo.': 1316, 'Di': 1317, 'patata.': 1318, 'Decid': 1319, 'güisqui.': 1320, 'Sonría.': 1321, '\"por': 1322, 'favor\".': 1323, 'vieja.': 1324, 'guapa.': 1325, 'Canta.': 1326, 'Huele': 1327, 'Olé': 1328, 'Huelan': 1329, 'Oled': 1330, 'Huela': 1331, '¡Retrocede!': 1332, 'Empieza': 1333, 'alerta.': 1334, 'consciente.': 1335, 'duermas.': 1336, 'cerca.': 1337, 'alejes': 1338, 'Quédate': 1339, 'vera.': 1340, '¡Más': 1341, 'Dejá': 1342, 'mentir.': 1343, 'bolacear.': 1344, 'Estudia': 1345, 'harto.': 1346, 'bus.': 1347, 'Llevate': 1348, 'estos': 1349, 'estos.': 1350, '¡Háblame!': 1351, 'conmigo!': 1352, '¡Hablad': 1353, '¡Ése': 1354, 'chico!': 1355, 'Buen': 1356, 'chico.': 1357, 'duele.': 1358, 'funciona.': 1359, 'valdrá.': 1360, 'Con': 1361, 'vale.': 1362, 'sirve.': 1363, 'Ése': 1364, 'Ésa': 1365, 'pertenece.': 1366, 'pertenece': 1367, 'mojado.': 1368, 'Engañaron.': 1369, 'Hicieron': 1370, 'trampas.': 1371, 'quedaron.': 1372, 'mantuvieron.': 1373, 'intentaron.': 1374, 'votaron.': 1375, 'Votaron.': 1376, 'Ellas': 1377, 'apuntan.': 1378, 'Esto': 1379, 'llegado.': 1380, 'Este': 1381, 'fin.': 1382, 'todo.': 1383, 'Éste': 1384, 'éste': 1385, 'basta.': 1386, 'tiempo': 1387, 'vuela.': 1388, 'acabó': 1389, 'convino': 1390, 'aquiescente.': 1391, 'estuvo': 1392, 'mordió.': 1393, 'eructó.': 1394, 'llamó.': 1395, 'hace': 1396, 'trampa.': 1397, 'bailó.': 1398, 'baila.': 1399, 'bebe.': 1400, 'toma.': 1401, 'conduce.': 1402, 'reprobó.': 1403, 'fracasó.': 1404, 'olvidó.': 1405, 'peleó.': 1406, 'luchó.': 1407, 'soltó': 1408, 'grito': 1409, 'ahogado.': 1410, 'quedó': 1411, 'aliento.': 1412, 'dio': 1413, 'metió': 1414, 'pata.': 1415, 'levantó.': 1416, 'ayudó.': 1417, 'golpeó.': 1418, 'grande.': 1419, 'raro.': 1420, 'salido.': 1421, 'saltó.': 1422, 'miró.': 1423, 'gimió.': 1424, 'asintió.': 1425, 'obedeció.': 1426, 'detuvo.': 1427, 'llamó': 1428, 'telefoneó.': 1429, 'rezó.': 1430, 'rezaba.': 1431, 'vio.': 1432, 'nos': 1433, 'rasuró.': 1434, 'suspiró.': 1435, 'sonrió.': 1436, 'ronca.': 1437, 'charló.': 1438, 'esperó.': 1439, 'caminó.': 1440, 'guiño.': 1441, 'lanzó': 1442, 'guiñó': 1443, 'ojo.': 1444, 'trabajó.': 1445, 'bostezó.': 1446, 'gritó.': 1447, 'llorará.': 1448, 'morirá.': 1449, 'pagará.': 1450, 'ocupado.': 1451, 'sordo.': 1452, 'ido.': 1453, 'marchado.': 1454, 'seguro.': 1455, 'fue': 1456, 'disparado.': 1457, 'feo.': 1458, 'Enciéndelo.': 1459, 'Gira': 1460, 'derecha.': 1461, '¿Era': 1462, 'ése': 1463, 'Somos': 1464, 'hombres.': 1465, 'Compramos': 1466, 'cedés.': 1467, 'pagar.': 1468, 'intentarlo.': 1469, 'probarlo.': 1470, 'probar.': 1471, 'ganar.': 1472, 'divertimos.': 1473, 'pasamos': 1474, 'reímos.': 1475, 'hicimos.': 1476, 'debemos': 1477, 'Debemos': 1478, 'Vimos': 1479, 'queremos.': 1480, 'Haremos': 1481, 'Fracasaremos.': 1482, 'Ayudaremos.': 1483, 'ayudaremos.': 1484, 'Echaremos': 1485, 'Cantaremos.': 1486, 'Esperaremos.': 1487, 'Nosotras': 1488, 'esperaremos.': 1489, 'vamos': 1490, 'caminar.': 1491, 'Trabajaremos.': 1492, 'regresado.': 1493, 'ocupados.': 1494, 'Tenemos': 1495, 'Terminamos.': 1496, 'perdidos.': 1497, 'pobres.': 1498, 'ricos.': 1499, 'ricas.': 1500, 'hartos.': 1501, 'débiles.': 1502, '¡Pero': 1503, 'día!': 1504, 'pasa?': 1505, 'nuevo?': 1506, 'cuentas?': 1507, '¿Dónde': 1508, 'estoy?': 1509, 'dónde': 1510, 'teléfono?': 1511, 'gritó?': 1512, 'da': 1513, 'vez?': 1514, 'ése?': 1515, 'ésa?': 1516, 'madera': 1517, 'arde.': 1518, '¿Llamaste?': 1519, 'Puedes': 1520, 'irte.': 1521, 'puedes': 1522, 'marcharte.': 1523, 'decides.': 1524, 'Podéis': 1525, 'iros.': 1526, 'Pueden': 1527, 'irse.': 1528, 'marcharos.': 1529, 'marcharse.': 1530, 'Podés': 1531, 'Fallaste.': 1532, 'verás.': 1533, 'veréis.': 1534, 'Eres': 1535, 'mala.': 1536, '¡Has': 1537, 'Todo': 1538, 'va': 1539, '¿Hay': 1540, 'alguien': 1541, 'casa?': 1542, '¿Alguien': 1543, 'herido?': 1544, '¿Hemos': 1545, 'terminado?': 1546, '¿Tú': 1547, 'eres': 1548, 'usted': 1549, 'calor?': 1550, '¿Tenéis': 1551, 'loco?': 1552, 'enfadado?': 1553, 'loca?': 1554, 'nueva?': 1555, 'quieras.': 1556, 'queráis.': 1557, 'guste.': 1558, 'quiera.': 1559, 'Sed': 1560, 'creativos.': 1561, 'discreto.': 1562, 'clemente.': 1563, 'preparado.': 1564, 'Estad': 1565, 'preparados.': 1566, 'puntual.': 1567, 'puntuales.': 1568, 'razonable.': 1569, 'razonables.': 1570, 'específico.': 1571, 'específica.': 1572, 'Especifica': 1573, 'más.': 1574, 'exhaustivo.': 1575, 'tolerante.': 1576, 'vigilante.': 1577, 'atento.': 1578, 'cerveza': 1579, 'comenzar?': 1580, '¿Puede': 1581, 'esperar?': 1582, 'hablar?': 1583, 'conversar?': 1584, '¿Puedes': 1585, 'ver?': 1586, '¿Podéis': 1587, 'Compruébalo': 1588, 'Revísalo': 1589, 'Sube': 1590, 'bordo.': 1591, 'Acercate.': 1592, 'verme.': 1593, 'Consuela': 1594, 'contacto': 1595, 'Cocíname.': 1596, 'Cocina': 1597, 'Cuenta': 1598, 'Cuente': 1599, '¿Ha': 1600, 'muerto': 1601, '¿Ganaste?': 1602, 'Haz': 1603, 'digo.': 1604, '¡Hacedlo': 1605, 'nuevo!': 1606, 'ahorita.': 1607, 'al': 1608, 'ratito.': 1609, '¿Juegas': 1610, 'boliche?': 1611, 'discutáis.': 1612, 'copiéis.': 1613, 'hagas!': 1614, 'hagáis!': 1615, 'hagan!': 1616, 'haga!': 1617, 'peleéis.': 1618, 'entres.': 1619, 'entre': 1620, 'rías.': 1621, 'vayas!': 1622, 'dispares!': 1623, 'dispare!': 1624, 'disparéis!': 1625, 'chilles.': 1626, 'sonrías.': 1627, 'sonrían.': 1628, 'fumes.': 1629, 'fuméis.': 1630, 'preocupes.': 1631, 'preocupéis.': 1632, 'Termine': 1633, 'Termina': 1634, 'Terminá': 1635, 'Terminen': 1636, 'Terminad': 1637, 'Lanza': 1638, 'moneda.': 1639, 'Tira': 1640, 'moneda': 1641, 'aire.': 1642, 'Vístete.': 1643, '¡Entra': 1644, '¡Ponte': 1645, 'serio!': 1646, 'encontrar': 1647, 'Vayan': 1648, 'buscar': 1649, 'descúbrelo.': 1650, 'pedir': 1651, 'ayudar': 1652, 'casa,': 1653, 'delante.': 1654, 'recto.': 1655, 'dormir.': 1656, '¡Váyanse': 1657, 'dormir!': 1658, 'asiento.': 1659, 'venido?': 1660, 'venido': 1661, 'vistazo.': 1662, 'venir.': 1663, 'sabe': 1664, 'encontró.': 1665, 'escapó.': 1666, 'envejeció.': 1667, '¡Ha': 1668, 'venido!': 1669, 'tiene': 1670, 'agallas.': 1671, 'Tiene': 1672, 'ocho': 1673, 'odiado.': 1674, 'guarro.': 1675, 'asqueroso.': 1676, 'grima.': 1677, 'joven.': 1678, 'gusto.': 1679, 'quiere.': 1680, 'pajero.': 1681, 'fingiendo.': 1682, 'estúpido.': 1683, 'llega': 1684, 'agua': 1685, 'tanque.': 1686, 'salame.': 1687, 'Ayudame': 1688, 'salir.': 1689, 'Écheme': 1690, 'Ayúdame': 1691, 'vengo.': 1692, 'aquí,': 1693, 'ella!': 1694, 'estamos!': 1695, 'estamos.': 1696, 'curioso!': 1697, 'Qué': 1698, 'cocinero.': 1699, 'monje.': 1700, 'encuentro': 1701, 'quedando': 1702, 'dormido.': 1703, 'jodiendo.': 1704, 'leseando.': 1705, 'pido': 1706, 'disculpas.': 1707, 'Pregunté': 1708, 'culpo': 1709, 'comprado.': 1710, 'compré.': 1711, 'hacerlo.': 1712, 'compartir.': 1713, 'decir.': 1714, 'Confesé.': 1715, 'Lloro': 1716, 'mucho.': 1717, 'como.': 1718, 'pan.': 1719, 'fruta.': 1720, 'Tenía': 1721, 'sentí': 1722, 'Encontré': 1723, 'enfadé.': 1724, 'Tuve': 1725, 'gatos.': 1726, 'perros.': 1727, 'leche.': 1728, 'ratas.': 1729, 'arena.': 1730, 'odio': 1731, 'odiaba': 1732, 'odié': 1733, 'trescientos': 1734, 'dólares.': 1735, 'Traigo': 1736, 'noticias.': 1737, 'escucho': 1738, 'oí.': 1739, 'oído.': 1740, 'Contraté': 1741, 'sabía': 1742, 'sé': 1743, 'gustan': 1744, 'dos.': 1745, 'jazz.': 1746, 'arroz.': 1747, 'rock.': 1748, 'nieve.': 1749, 'gustan.': 1750, 'Amaba': 1751, 'Vivo': 1752, 'vivo': 1753, 'encanta': 1754, 'cerveza.': 1755, 'encantan': 1756, 'pescado.': 1757, 'golf.': 1758, 'niños.': 1759, 'chicos.': 1760, 'Amo': 1761, 'matemáticas.': 1762, 'música': 1763, 'sopa.': 1764, 'amaba.': 1765, 'quería.': 1766, 'quise.': 1767, 'refiero.': 1768, 'extrañaba.': 1769, 'Debo': 1770, 'esconderme.': 1771, '¡Necesito': 1772, 'ayuda!': 1773, 'necesité.': 1774, 'nunca': 1775, 'gano.': 1776, 'esquiar': 1777, 'frecuencia.': 1778, 'quedé': 1779, 'pago': 1780, 'impuestos.': 1781, 'Leo': 1782, 'labios.': 1783, 'pararas.': 1784, 'detuvieras.': 1785, 'vi': 1786, 'OVNI.': 1787, 'perro.': 1788, 'Vendo': 1789, 'autos.': 1790, 'debería': 1791, 'Huelo': 1792, 'gas.': 1793, 'agradezco.': 1794, 'confío': 1795, 'Confío': 1796, 'este.': 1797, 'Estaba': 1798, 'mareado.': 1799, 'mareada.': 1800, 'despedido.': 1801, 'despidieron.': 1802, 'suerte.': 1803, 'era': 1804, 'ingenuo.': 1805, 'desnudo.': 1806, 'razón.': 1807, 'equivocado.': 1808, 'también': 1809, 'fui.': 1810, 'Gané': 1811, 'preguntaré.': 1812, 'Trabajo': 1813, 'preguntaría': 1814, 'Cambiaré.': 1815, 'probaré.': 1816, '17': 1817, 'panadero.': 1818, 'perdedor.': 1819, 'perdedora.': 1820, 'mujer.': 1821, 'desconcertado.': 1822, 'cocinando.': 1823, 'curiosidad.': 1824, 'bailando.': 1825, 'comprometida.': 1826, 'emocionado.': 1827, 'emocionada.': 1828, 'ayunando.': 1829, 'quisquilloso.': 1830, 'saludable.': 1831, 'cárcel.': 1832, 'enamorada.': 1833, 'nervioso.': 1834, 'inquieto.': 1835, 'casado.': 1836, 'casada.': 1837, 'neutral.': 1838, 'gorda!': 1839, 'mentalizado.': 1840, 'leyendo.': 1841, 'descansando.': 1842, 'egoísta.': 1843, '¡Me': 1844, 'muero': 1845, 'hambre!': 1846, 'demasiado': 1847, 'atrapado.': 1848, 'mala': 1849, 'esperando.': 1850, 'preocupada.': 1851, 'Ignoralos.': 1852, 'acabado': 1853, 'aquí': 1854, 'él': 1855, '¿Se': 1856, 'encuentra': 1857, 'acertado?': 1858, 'cierto?': 1859, 'dice?': 1860, 'ahí?': 1861, 'llevar?': 1862, 'ventoso?': 1863, 'suyo?': 1864, 'vuestro?': 1865, '¿Ella': 1866, 'simpática?': 1867, 'ese': 1868, 'usted?': 1869, 'Costó': 1870, '30': 1871, 'Pasó.': 1872, 'sucedió.': 1873, 'invito.': 1874, 'Puede': 1875, 'llueva.': 1876, 'Podría': 1877, 'nevar.': 1878, 'posible': 1879, 'salvó.': 1880, 'Estuvo': 1881, 'chido.': 1882, 'chilo.': 1883, 'padre.': 1884, 'Fue': 1885, 'fácil.': 1886, 'Era': 1887, 'real.': 1888, '50': 1889, 'yenes.': 1890, 'lunes.': 1891, 'muñeca.': 1892, 'pez.': 1893, 'arpa.': 1894, 'harpa.': 1895, 'broma.': 1896, 'quilombo.': 1897, 'normativa.': 1898, 'canción.': 1899, 'vicio.': 1900, 'aburrido.': 1901, 'roto.': 1902, 'estropeado.': 1903, 'rota.': 1904, 'fresquito.': 1905, 'biruji': 1906, 'veas.': 1907, 'nublado.': 1908, 'inútil.': 1909, 'somos': 1910, 'secreto.': 1911, 'Solo': 1912, 'di': 1913, 'no.': 1914, 'Sigue': 1915, 'moviéndote.': 1916, 'ayudarte.': 1917, 'Házmelo': 1918, 'saber.': 1919, 'vivir.': 1920, '¡Empecemos!': 1921, 'Comencemos.': 1922, 'Bailemos.': 1923, '¡Hagámoslo!': 1924, 'Hagámoslo.': 1925, 'Entremos.': 1926, 'Apurémonos.': 1927, 'Vayámonos.': 1928, '¡Vamos': 1929, 'guateque!': 1930, 'Festejemos.': 1931, 'Relajémonos.': 1932, 'vida': 1933, 'divertida.': 1934, 'desde': 1935, 'lista.': 1936, 'Hagan': 1937, 'Pide': 1938, 'deseo.': 1939, '¡Muchas': 1940, 'gracias!': 1941, 'Memórizalo.': 1942, 'Memórizala.': 1943, 'dinero': 1944, 'mueve': 1945, 'mundo.': 1946, 'Poderoso': 1947, 'caballero': 1948, 'Don': 1949, 'Dinero.': 1950, 'Justo': 1951, 'Llegas': 1952, 'significa': 1953, '\"No\"': 1954, '\"no\".': 1955, 'Nadie': 1956, 'vino': 1957, 'nadie.': 1958, 'Ninguno': 1959, 'acudió.': 1960, 'murió': 1961, 'ayúdame.': 1962, 'resiste.': 1963, 'sigue.': 1964, 'continúa.': 1965, 'prosigue.': 1966, 'callate.': 1967, 'Bueno,': 1968, 'Uno': 1969, 'azul.': 1970, 'Canta,': 1971, 'favor': 1972, 'quédate.': 1973, 'quedate.': 1974, 'quédense.': 1975, 'quédese.': 1976, 'Bájalo.': 1977, 'Póngase': 1978, 'Libérale.': 1979, 'Recuérdalo.': 1980, 'Responded': 1981, 'sus': 1982, 'disparos.': 1983, 'adiós.': 1984, 'digas': 1985, 'Mándalo': 1986, 'Mándelo': 1987, 'Mándenlo': 1988, 'Mandalo': 1989, '¿Nos': 1990, 'vamos?': 1991, 'pegó.': 1992, 'muerta.': 1993, 'despertó.': 1994, 'zorra.': 1995, 'loca.': 1996, '¿Debería': 1997, 'Muéstrame': 1998, 'cómo.': 1999, 'Que': 2000, 'duermas': 2001, 'Háblame.': 2002, 'lado!': 2003, '¡Dejad': 2004, 'sitio!': 2005, 'llorar.': 2006, 'muevas!': 2007, '¡Quieto': 2008, 'ahí!': 2009, 'quieto!': 2010, 'moverte.': 2011, '¡Alto!': 2012, '¡Ladrón!': 2013, 'Saque': 2014, 'carta.': 2015, 'Saca': 2016, 'Echa': 2017, 'ojeada.': 2018, 'Descansad.': 2019, 'Actúa.': 2020, 'coche.': 2021, 'té,': 2022, 'funcionó.': 2023, 'tontería.': 2024, 'enorme.': 2025, 'Esa': 2026, 'Así': 2027, 'pasado.': 2028, 'están.': 2029, 'ellos.': 2030, 'ésos.': 2031, 'cierto.': 2032, 'televisión': 2033, 'encendida.': 2034, '¡Allá': 2035, 'está!': 2036, 'quemaron.': 2037, 'Llamaron.': 2038, 'Bailaron.': 2039, 'hicieron.': 2040, 'hicieron': 2041, 'lograron.': 2042, 'abrazaron.': 2043, 'besaron.': 2044, 'vayan.': 2045, 'Quizá': 2046, 'Tal': 2047, 'vez': 2048, 'Obedecieron.': 2049, 'vieron.': 2050, 'veían.': 2051, 'Sonrieron.': 2052, 'Esperaron.': 2053, 'Caminaron.': 2054, 'caminaron.': 2055, 'Pasearon.': 2056, 'gritaron.': 2057, 'malos.': 2058, 'Están': 2059, 'nuevos.': 2060, 'nuevas.': 2061, 'viejos.': 2062, 'mayores.': 2063, 'ancianos.': 2064, 'Piensa': 2065, 'Piénsalo': 2066, 'Ésta': 2067, 'suya.': 2068, 'Ésto': 2069, 'apesta.': 2070, 'mierda.': 2071, 'llegó.': 2072, 'sonrojó.': 2073, 'cambió.': 2074, 'varió.': 2075, 'vitoreó.': 2076, 'aplaudió.': 2077, 'tuvo': 2078, 'accidente.': 2079, 'estrelló.': 2080, 'decidió.': 2081, 'ahogó.': 2082, 'espiró.': 2083, 'desmayó.': 2084, 'regodeó.': 2085, 'gruñó.': 2086, 'DOC.': 2087, 'inhaló.': 2088, 'pelón.': 2089, 'malvado.': 2090, 'satisfecho.': 2091, 'perezoso.': 2092, 'ordenado.': 2093, 'arrodilló.': 2094, 'rio.': 2095, 'escucha.': 2096, 'pagó': 2097, 'adelantado.': 2098, 'pagaba': 2099, 'negó.': 2100, 'cerró': 2101, 'banda.': 2102, 'relajó.': 2103, 'relajaba.': 2104, 'resbaló.': 2105, 'estornudó.': 2106, 'enseña.': 2107, 'mayor.': 2108, 'ayudará.': 2109, 'furioso.': 2110, 'hecho': 2111, 'polvo.': 2112, 'alegre.': 2113, 'disgustado.': 2114, 'Pruébate': 2115, 'ese.': 2116, 'Apágalo.': 2117, 'Esperame.': 2118, 'Espéranos.': 2119, 'Despierta': 2120, 'Despertalo.': 2121, 'Camina': 2122, 'lentamente.': 2123, '¿Estaba': 2124, 'equivocado?': 2125, '¿Hacía': 2126, 'frío?': 2127, '¿Estuvo': 2128, 'Todos': 2129, 'trabajamos.': 2130, 'Comimos': 2131, 'huevos.': 2132, 'separamos.': 2133, 'dejamos.': 2134, 'Rompimos.': 2135, 'encontrarnos.': 2136, 'vernos.': 2137, 'hablar.': 2138, 'esperar.': 2139, 'perdimos.': 2140, 'Ayudamos': 2141, 'ayudamos': 2142, 'Sabemos': 2143, 'qué.': 2144, 'Conocemos': 2145, 'porqué.': 2146, 'conocemos.': 2147, 'conocemos': 2148, 'ti': 2149, 'Queremos': 2150, 'agrada.': 2151, 'gustas.': 2152, 'Amamos': 2153, 'amamos.': 2154, 'extrañamos.': 2155, 'Hay': 2156, 'actuar.': 2157, 'necesitamos.': 2158, 'prometimos.': 2159, 'acordamos.': 2160, 'recordamos.': 2161, 'sentamos.': 2162, 'sentábamos.': 2163, 'Sobrevivimos.': 2164, 'uno': 2165, 'esos.': 2166, 'Estaremos': 2167, 'haremos.': 2168, 'conduciremos.': 2169, 'luchar.': 2170, 'compartiremos.': 2171, 'Compartiremos.': 2172, 'despiertos.': 2173, 'arruinados.': 2174, 'duro.': 2175, 'dos': 2176, 'velas.': 2177, 'limpios.': 2178, 'felices.': 2179, 'listos.': 2180, 'sentimos.': 2181, 'cansados.': 2182, 'gemelos.': 2183, 'jóvenes.': 2184, 'burro': 2185, 'eres!': 2186, 'burro!': 2187, 'tipo': 2188, 'arrastrado!': 2189, 'pendejo!': 2190, 'imbécil!': 2191, 'pérdida!': 2192, 'desastre!': 2193, 'mugre!': 2194, 'confusión!': 2195, 'dolor.': 2196, 'lástima.': 2197, 'pena.': 2198, 'lástima!': 2199, 'equipo!': 2200, 'ego!': 2201, 'arte?': 2202, 'esto?': 2203, '¿Quiénes': 2204, 'sois?': 2205, 'sos?': 2206, 'trampas?': 2207, 'vitoreó?': 2208, 'dibujó?': 2209, 'escapó?': 2210, 'pegado?': 2211, 'siguiente?': 2212, 'dijo?': 2213, 'vio?': 2214, 'viene?': 2215, 'cocinar?': 2216, 'toca?': 2217, 'primero?': 2218, '¿De': 2219, 'pasa': 2220, 'viene': 2221, '¿Vas': 2222, '¿Irás?': 2223, '¿Va': 2224, 'Escríbelo.': 2225, 'Ponlo': 2226, 'escrito.': 2227, 'Sí,': 2228, 'Sos': 2229, 'Hiciste': 2230, 'Hizo': 2231, 'Hicisteis': 2232, 'desmayaron.': 2233, 'desmayaste.': 2234, 'lastimas.': 2235, 'Quédatelo.': 2236, 'conoces.': 2237, 'has': 2238, 'hecho.': 2239, 'conseguido.': 2240, 'habéis': 2241, 'logrado.': 2242, 'han': 2243, 'conseguido': 2244, 'ustedes.': 2245, 'necesita.': 2246, 'necesitáis.': 2247, 'necesitas.': 2248, '¡Así!': 2249, 'Exactamente': 2250, 'así.': 2251, 'regreso.': 2252, 'langa.': 2253, 'hermosa.': 2254, 'Ustedes': 2255, 'Sois': 2256, 'buenos.': 2257, 'Estáis': 2258, 'retrasado.': 2259, 'simpático.': 2260, '¡Estás': 2261, 'loco!': 2262, 'chiflado!': 2263, 'enfermo!': 2264, '¡Estáis': 2265, 'enfermos!': 2266, '¡Abandonen': 2267, 'nave!': 2268, 'Actúa': 2269, 'acorde': 2270, 'tu': 2271, 'edad.': 2272, 'invitado?': 2273, '¿Nada': 2274, '¿Estamos': 2275, 'arruinados?': 2276, 'tú': 2277, 'calvo?': 2278, 'ocupado?': 2279, 'ocupada?': 2280, 'sordo?': 2281, 'libre?': 2282, 'lleno?': 2283, '¿Estáis': 2284, 'herida?': 2285, 'perdido?': 2286, '¿Os': 2287, 'encuentras': 2288, '¿Usted': 2289, 'rico?': 2290, 'segura?': 2291, '¿Están': 2292, 'seguros?': 2293, 'Invita': 2294, 'salir': 2295, 'Mary.': 2296, 'Estar': 2297, 'confiado.': 2298, 'seguro': 2299, 'confianza.': 2300, 'seguridad.': 2301, 'despiadado.': 2302, 'objetivo.': 2303, 'objetivos.': 2304, 'realista!': 2305, 'paciencia': 2306, 'paciente': 2307, 'Ternera,': 2308, 'Hierve': 2309, 'huevo.': 2310, 'tropas': 2311, 'apoyo.': 2312, 'Hazle': 2313, 'sombrero.': 2314, 'Llamá': 2315, 'FBI.': 2316, 'intentar?': 2317, 'hacerlo?': 2318, 'leer?': 2319, '¿Sabes': 2320, 'nadar?': 2321, 'caminar?': 2322, 'andar?': 2323, 'Revisa': 2324, 'nuestro': 2325, 'alrededor.': 2326, '¡Échale': 2327, 'vistazo!': 2328, '¡Míralo!': 2329, '¡Compruébalo!': 2330, 'mirad.': 2331, 'mira.': 2332, 'cuando': 2333, 'alguna': 2334, 'enseguida.': 2335, 'Acércate.': 2336, 'ayudarme.': 2337, 'echarme': 2338, 'Regresa.': 2339, 'Baja.': 2340, 'Baje.': 2341, 'fuera.': 2342, 'Subid': 2343, 'Suba': 2344, 'Suban': 2345, 'Véngase.': 2346, 'nosotras.': 2347, 'Enfríalo.': 2348, 'Describilo': 2349, 'Descríbelo': 2350, 'Descríbalo': 2351, 'llamado': 2352, '¿Vino': 2353, 'ayudó?': 2354, '¿Ayudaste?': 2355, '¿Firmaste?': 2356, '¿Firmaron?': 2357, '¿Luzco': 2358, 'veo': 2359, 'Hágalo': 2360, 'Hacelo': 2361, 'saben?': 2362, 'conocen?': 2363, '¿Bebes?': 2364, '¿Bebéis?': 2365, '¿Bebe': 2366, 'fuma?': 2367, '¿Fumas?': 2368, 'ronca?': 2369, 'roncas?': 2370, '¿Duele?': 2371, 'nota?': 2372, '¿Funciona?': 2373, '¿Funciona': 2374, 'estés': 2375, 'sea': 2376, 'seas': 2377, 'tímida.': 2378, 'sueltes.': 2379, 'divagues.': 2380, 'tientes.': 2381, 'Conduce': 2382, 'Conduzca': 2383, 'cuidado.': 2384, 'Examina': 2385, 'Examine': 2386, 'Examiná': 2387, 'Examinad': 2388, 'Examinen': 2389, 'Lucha': 2390, 'o': 2391, 'muere.': 2392, 'Encuentra': 2393, 'gato.': 2394, 'libro.': 2395, 'Consigue': 2396, 'Recoge': 2397, 'Traiga': 2398, 'Recoja': 2399, 'fantasmas': 2400, 'existen.': 2401, 'Dame': 2402, 'mitad.': 2403, 'Deme': 2404, 'Denme': 2405, 'Dadme': 2406, 'Devuélvete': 2407, 'escuela.': 2408, 'Bien': 2409, 'Buenos': 2410, 'días.': 2411, 'Espera,': 2412, 'Feliz': 2413, 'Pascua.': 2414, '¡Feliz': 2415, 'Pascua!': 2416, 'rosquilla.': 2417, 'Cómete': 2418, 'trago.': 2419, 'Tómate': 2420, 'botana.': 2421, 'otro.': 2422, 'otra.': 2423, 'valiente.': 2424, 'valientes.': 2425, 'evita.': 2426, 'enfadó.': 2427, 'enfadado.': 2428, 'morros.': 2429, 'motivado.': 2430, 'pateó.': 2431, 'dejó': 2432, 'Dejó': 2433, 'fuéramos.': 2434, 'humillado.': 2435, 'perdió': 2436, 'prestigio.': 2437, 'Corre': 2438, 've': 2439, 'Esperará.': 2440, 'Va': 2441, 'fanático.': 2442, 'ninja.': 2443, 'dieta.': 2444, 'sufriendo.': 2445, 'celoso.': 2446, 'lindo!': 2447, 'Ayúdale': 2448, 'tienes.': 2449, 'estás.': 2450, 'Al': 2451, 'fin': 2452, 'encuentro.': 2453, 'Toma.': 2454, 'Coge.': 2455, 'tienes': 2456, 'bolígrafo.': 2457, 'Toma,': 2458, 'boli.': 2459, '¡Oye,': 2460, 'aguarda!': 2461, 'aguante!': 2462, 'rollo!': 2463, 'pesado!': 2464, 'incordio!': 2465, 'hincha': 2466, 'pelotas!': 2467, 'arrogante!': 2468, 'horrible!': 2469, 'romántico!': 2470, 'colegio?': 2471, 'escuela?': 2472, 'Admiro': 2473, 'admiro.': 2474, 'chino.': 2475, 'confuso.': 2476, 'saberlo.': 2477, 'lesionado.': 2478, 'rezando.': 2479, 'disculpé.': 2480, 'Comí': 2481, 'manzanas.': 2482, 'comí': 2483, 'caviar.': 2484, 'mordí': 2485, 'labio.': 2486, 'arreglarlo.': 2487, 'cocinar.': 2488, 'mover.': 2489, 'quedar.': 2490, 'parar.': 2491, 'corto.': 2492, 'corté.': 2493, 'cortado.': 2494, 'Detesto': 2495, 'Hice': 2496, 'pregunté.': 2497, 'mentí.': 2498, 'pagué.': 2499, 'Sí': 2500, 'chupa': 2501, 'desconozco.': 2502, 'canto.': 2503, 'Tomé': 2504, 'bebido': 2505, 'queso.': 2506, 'viva.': 2507, 'genial.': 2508, 'atontado.': 2509, 'aturdido.': 2510, 'enmarqué': 2511, 'pidieron': 2512, 'identificación.': 2513, 'identificarme.': 2514, 'documentación.': 2515, 'atracaron.': 2516, 'dudas.': 2517, 'mentirosos.': 2518, 'ópera.': 2519, 'reglas.': 2520, 'sushi.': 2521, 'carro.': 2522, 'llave.': 2523, 'pluma.': 2524, 'música.': 2525, 'Ayudé': 2526, 'abracé.': 2527, 'Acabo': 2528, 'mudarme.': 2529, 'China.': 2530, 'frijoles.': 2531, 'dulces.': 2532, 'ajedrez.': 2533, 'miel.': 2534, 'pizza.': 2535, 'mujeres.': 2536, 'libros.': 2537, 'juegos.': 2538, 'viajes.': 2539, 'gustaba.': 2540, 'gustaba': 2541, 'apuesta.': 2542, 'éstos.': 2543, 'Éstos': 2544, 'engañé': 2545, 'eché': 2546, 'extrañé.': 2547, 'taxi.': 2548, 'auto.': 2549, 'abrazo.': 2550, 'siesta.': 2551, 'pintura.': 2552, 'falta': 2553, 'espacio.': 2554, 'agua.': 2555, 'necesito': 2556, 'necesitaba.': 2557, 'frecuentemente.': 2558, 'llamé.': 2559, 'león.': 2560, 'estrella.': 2561, 'Simpatizo.': 2562, 'Entiendo.': 2563, 'muchas': 2564, 'cosas.': 2565, 'avisado': 2566, 'miedo.': 2567, 'Fui': 2568, 'enmarcado.': 2569, 'encontraba': 2570, 'veces.': 2571, 'perder!': 2572, 'perderé!': 2573, 'pregunto': 2574, 'escribí': 2575, 'compraría': 2576, 'preguntaré': 2577, 'Volveré.': 2578, 'estar': 2579, 'Seré': 2580, 'comprar': 2581, 'Haré': 2582, 'arriesgaré.': 2583, 'demandaré.': 2584, 'ex': 2585, 'médico.': 2586, 'doctor.': 2587, 'médica.': 2588, 'granjero.': 2589, 'surfista.': 2590, 'camarero.': 2591, 'escritor.': 2592, 'todo': 2593, 'oídos.': 2594, 'actor.': 2595, 'adulta.': 2596, 'adulto.': 2597, 'agente.': 2598, 'anoréxico.': 2599, 'autista.': 2600, 'descalzo.': 2601, 'confusa.': 2602, 'confundido.': 2603, 'confundida.': 2604, 'divorciada.': 2605, 'dubitativo.': 2606, 'ahogando.': 2607, 'formación.': 2608, 'congelado.': 2609, 'helado.': 2610, 'helando.': 2611, 'agradecida.': 2612, 'luto.': 2613, 'vacilante.': 2614, 'gravemente': 2615, 'Perth.': 2616, 'inocente.': 2617, 'culto.': 2618, 'nuevo': 2619, 'ángel.': 2620, 'rebelde.': 2621, 'pintando.': 2622, 'embarazada.': 2623, 'embarazado.': 2624, 'preparada.': 2625, 'racional.': 2626, 'aliviado.': 2627, 'desasosegado.': 2628, 'intranquilo.': 2629, 'durmiendo.': 2630, 'tanto.': 2631, 'lamento': 2632, 'cansado!': 2633, 'cansada!': 2634, 'muy': 2635, 'muriendo': 2636, 'Todavía': 2637, 'terco.': 2638, 'estudiando.': 2639, 'pensando.': 2640, 'meditando.': 2641, 'trece': 2642, 'concienzudo.': 2643, 'entusiasmado.': 2644, 'cachondo.': 2645}\n"
          ],
          "name": "stdout"
        }
      ]
    },
    {
      "cell_type": "markdown",
      "metadata": {
        "id": "mizf4_aIEseV"
      },
      "source": [
        "# 将文本转移成向量表示"
      ]
    },
    {
      "cell_type": "code",
      "metadata": {
        "id": "jzoxJ0QmHxj3"
      },
      "source": [
        "def convert_text_int(char2id, sentence_list):\n",
        "  result = []\n",
        "  for sentence in sentence_list:\n",
        "    result.append([char2id[char] for char in sentence.split(\" \")])\n",
        "  return result\n",
        "  "
      ],
      "execution_count": null,
      "outputs": []
    },
    {
      "cell_type": "code",
      "metadata": {
        "id": "BOVM4qL9rdt_",
        "outputId": "666e3846-d9e2-4f96-c458-a9cb881df789",
        "colab": {
          "base_uri": "https://localhost:8080/"
        }
      },
      "source": [
        "source_sentence_int = convert_text_int(source_char_id, source_text)\n",
        "target_sentence_int = convert_text_int(target_char_id, target_text)\n",
        "print(len(source_sentence_int), len(target_sentence_int))\n",
        "print(source_sentence_int[0], target_sentence_int[0])"
      ],
      "execution_count": null,
      "outputs": [
        {
          "output_type": "stream",
          "text": [
            "3000 3000\n",
            "[1] [1, 2, 3]\n"
          ],
          "name": "stdout"
        }
      ]
    },
    {
      "cell_type": "markdown",
      "metadata": {
        "id": "NqJgNrhnE0NK"
      },
      "source": [
        "# 统计文本的最大长度"
      ]
    },
    {
      "cell_type": "code",
      "metadata": {
        "id": "_xC33wRfru3P"
      },
      "source": [
        "def max_length_sentecne(sentence_list):\n",
        "  max_length = 0\n",
        "  for sentence in sentence_list:\n",
        "    max_length = max(len(sentence), max_length)\n",
        "  return max_length"
      ],
      "execution_count": null,
      "outputs": []
    },
    {
      "cell_type": "code",
      "metadata": {
        "id": "rsOQD5BL75In",
        "outputId": "642b9c2d-6c59-482b-8ecc-76036edae8ea",
        "colab": {
          "base_uri": "https://localhost:8080/"
        }
      },
      "source": [
        "source_sentence_max_length = max_length_sentecne(source_sentence_int)\n",
        "print(source_sentence_max_length)\n",
        "target_sentence_max_length = max_length_sentecne(target_sentence_int)\n",
        "print(target_sentence_max_length)"
      ],
      "execution_count": null,
      "outputs": [
        {
          "output_type": "stream",
          "text": [
            "4\n",
            "9\n"
          ],
          "name": "stdout"
        }
      ]
    },
    {
      "cell_type": "code",
      "metadata": {
        "id": "Mhhw1YRz79mc"
      },
      "source": [
        "source_data = tf.keras.preprocessing.sequence.pad_sequences(source_sentence_int, maxlen=source_sentence_max_length)\n",
        "target_data = tf.keras.preprocessing.sequence.pad_sequences(target_sentence_int, maxlen=target_sentence_max_length)"
      ],
      "execution_count": null,
      "outputs": []
    },
    {
      "cell_type": "code",
      "metadata": {
        "id": "P-QXhMYC9i9A",
        "outputId": "6884927c-d25f-429d-d85a-9f1f77028cb8",
        "colab": {
          "base_uri": "https://localhost:8080/"
        }
      },
      "source": [
        "input_tensor_train, input_tensor_val, target_tensor_train, target_tensor_val = train_test_split(source_data, target_data, test_size = 0.2)\n",
        "print(len(input_tensor_train), len(target_tensor_train), len(input_tensor_val), len(target_tensor_val))"
      ],
      "execution_count": null,
      "outputs": [
        {
          "output_type": "stream",
          "text": [
            "2400 2400 600 600\n"
          ],
          "name": "stdout"
        }
      ]
    },
    {
      "cell_type": "code",
      "metadata": {
        "id": "zeoI9X33_tyf"
      },
      "source": [
        "def convert(id2char, tensor):\n",
        "  for t in tensor:\n",
        "    if t!=0:\n",
        "      print (\"%d ----> %s\" % (t, id2char[t]))"
      ],
      "execution_count": null,
      "outputs": []
    },
    {
      "cell_type": "code",
      "metadata": {
        "id": "R0DTYW3L__mW",
        "outputId": "1ce976cf-8c85-4239-bf22-cfecc95c737a",
        "colab": {
          "base_uri": "https://localhost:8080/"
        }
      },
      "source": [
        "print (\"Input Language; index to word mapping\")\n",
        "convert(source_id_char, input_tensor_train[0])\n",
        "print ()\n",
        "print (\"Target Language; index to word mapping\")\n",
        "convert(target_id_char, target_tensor_train[0])"
      ],
      "execution_count": null,
      "outputs": [
        {
          "output_type": "stream",
          "text": [
            "Input Language; index to word mapping\n",
            "16 ----> I\n",
            "532 ----> felt\n",
            "1203 ----> woozy.\n",
            "\n",
            "Target Language; index to word mapping\n",
            "1 ----> <start>\n",
            "55 ----> Me\n",
            "1107 ----> sentía\n",
            "2510 ----> aturdido.\n",
            "3 ----> <end>\n"
          ],
          "name": "stdout"
        }
      ]
    },
    {
      "cell_type": "code",
      "metadata": {
        "id": "U0Fqgd2ZA5V5"
      },
      "source": [
        "BUFFER_SIZE = len(source_sentence_int)\n",
        "BATCH_SIZE = 64\n",
        "steps_per_epoch = len(source_sentence_int)//BATCH_SIZE\n",
        "embedding_dim = 256\n",
        "units = 1024\n",
        "vocab_inp_size = len(source_char_id)\n",
        "vocab_tar_size = len(target_char_id)\n",
        "\n",
        "dataset = tf.data.Dataset.from_tensor_slices((input_tensor_train, target_tensor_train)).shuffle(BUFFER_SIZE)\n",
        "dataset = dataset.batch(BATCH_SIZE, drop_remainder=True)"
      ],
      "execution_count": null,
      "outputs": []
    },
    {
      "cell_type": "code",
      "metadata": {
        "id": "e_VzbNQ_BeP-",
        "outputId": "a3caf6aa-d325-4724-8b1e-824f9917836b",
        "colab": {
          "base_uri": "https://localhost:8080/"
        }
      },
      "source": [
        "example_input_batch, example_target_batch = next(iter(dataset))\n",
        "example_input_batch.shape, example_target_batch.shape"
      ],
      "execution_count": null,
      "outputs": [
        {
          "output_type": "execute_result",
          "data": {
            "text/plain": [
              "(TensorShape([64, 4]), TensorShape([64, 9]))"
            ]
          },
          "metadata": {
            "tags": []
          },
          "execution_count": 109
        }
      ]
    },
    {
      "cell_type": "code",
      "metadata": {
        "id": "zBD_YM3iBhL9"
      },
      "source": [
        "class Encoder(tf.keras.Model):\n",
        "  def __init__(self, vocab_size, embedding_dim, enc_units, batch_sz):\n",
        "    super(Encoder, self).__init__()\n",
        "    self.batch_sz = batch_sz\n",
        "    self.enc_units = enc_units\n",
        "    self.embedding = tf.keras.layers.Embedding(vocab_size, embedding_dim)\n",
        "    self.gru = tf.keras.layers.GRU(self.enc_units,\n",
        "                    return_sequences=True,\n",
        "                    return_state=True,\n",
        "                    recurrent_initializer='glorot_uniform')\n",
        "\n",
        "  def call(self, x, hidden):\n",
        "    x = self.embedding(x)\n",
        "    output, state = self.gru(x,initial_state = hidden)\n",
        "    return output, state\n",
        "\n",
        "  def initialize_hidden_state(self):\n",
        "    return tf.zeros((self.batch_sz, self.enc_units))\n",
        "  "
      ],
      "execution_count": null,
      "outputs": []
    },
    {
      "cell_type": "code",
      "metadata": {
        "id": "_-CrPX40B3dm",
        "outputId": "e1000123-9399-4b18-c06f-54f03522e903",
        "colab": {
          "base_uri": "https://localhost:8080/"
        }
      },
      "source": [
        "encoder = Encoder(vocab_inp_size, embedding_dim, units, BATCH_SIZE)\n",
        "# 样本输入\n",
        "sample_hidden = encoder.initialize_hidden_state()\n",
        "sample_output, sample_hidden = encoder(example_input_batch, sample_hidden)\n",
        "print ('Encoder output shape: (batch size, sequence length, units) {}'.format(sample_output.shape))\n",
        "print ('Encoder Hidden state shape: (batch size, units) {}'.format(sample_hidden.shape))"
      ],
      "execution_count": null,
      "outputs": [
        {
          "output_type": "stream",
          "text": [
            "Encoder output shape: (batch size, sequence length, units) (64, 4, 1024)\n",
            "Encoder Hidden state shape: (batch size, units) (64, 1024)\n"
          ],
          "name": "stdout"
        }
      ]
    },
    {
      "cell_type": "code",
      "metadata": {
        "id": "bfVX49gAB7jB"
      },
      "source": [
        "class BahdanauAttention(tf.keras.layers.Layer):\n",
        "  def __init__(self, units):\n",
        "    super(BahdanauAttention, self).__init__()\n",
        "    self.W1 = tf.keras.layers.Dense(units)\n",
        "    self.W2 = tf.keras.layers.Dense(units)\n",
        "    self.V = tf.keras.layers.Dense(1)\n",
        "\n",
        "  def call(self, query, values):  \n",
        "    print(tf.shape(query))\n",
        "    print(tf.shape(values))\n",
        "\n",
        "    hidden_with_time_axis = tf.expand_dims(query, 1)\n",
        "    print(tf.shape(hidden_with_time_axis))\n",
        "\n",
        "    score = self.V(tf.nn.tanh(self.W1(values) + self.W2(hidden_with_time_axis)))\n",
        "    print(tf.shape(score))\n",
        "\n",
        "    attention_weights = tf.nn.softmax(score, axis=1)\n",
        "    context_vector = attention_weights * values\n",
        "\n",
        "    context_vector = tf.reduce_sum(context_vector, axis=1)\n",
        "\n",
        "    return context_vector, attention_weights"
      ],
      "execution_count": null,
      "outputs": []
    },
    {
      "cell_type": "code",
      "metadata": {
        "id": "26T8sjhfCuWv",
        "outputId": "d2d24e72-7200-4431-8422-c48c77e9264c",
        "colab": {
          "base_uri": "https://localhost:8080/"
        }
      },
      "source": [
        "attention_layer = BahdanauAttention(10)\n",
        "attention_result, attention_weights = attention_layer(sample_hidden, sample_output)\n",
        "\n",
        "print(\"Attention result shape: (batch size, units) {}\".format(attention_result.shape))\n",
        "print(\"Attention weights shape: (batch_size, sequence_length, 1) {}\".format(attention_weights.shape))"
      ],
      "execution_count": null,
      "outputs": [
        {
          "output_type": "stream",
          "text": [
            "tf.Tensor([  64 1024], shape=(2,), dtype=int32)\n",
            "tf.Tensor([  64    4 1024], shape=(3,), dtype=int32)\n",
            "tf.Tensor([  64    1 1024], shape=(3,), dtype=int32)\n",
            "tf.Tensor([64  4  1], shape=(3,), dtype=int32)\n",
            "Attention result shape: (batch size, units) (64, 1024)\n",
            "Attention weights shape: (batch_size, sequence_length, 1) (64, 4, 1)\n"
          ],
          "name": "stdout"
        }
      ]
    },
    {
      "cell_type": "code",
      "metadata": {
        "id": "hIaZpmzkC1Dl"
      },
      "source": [
        "class Decoder(tf.keras.Model):\n",
        "  def __init__(self, vocab_size, embedding_dim, dec_units, batch_sz):\n",
        "    super(Decoder, self).__init__()\n",
        "    self.batch_sz = batch_sz\n",
        "    self.dec_units = dec_units\n",
        "    self.embedding = tf.keras.layers.Embedding(vocab_size, embedding_dim)\n",
        "    self.gru = tf.keras.layers.GRU(self.dec_units,\n",
        "                                   return_sequences=True,\n",
        "                                   return_state=True,\n",
        "                                   recurrent_initializer='glorot_uniform')\n",
        "    self.fc = tf.keras.layers.Dense(vocab_size)\n",
        "\n",
        "    # 用于注意力\n",
        "    self.attention = BahdanauAttention(self.dec_units)\n",
        "\n",
        "  def call(self, x, hidden, enc_output):\n",
        "    # 编码器输出 （enc_output） 的形状 == （批大小，最大长度，隐藏层大小）\n",
        "    context_vector, attention_weights = self.attention(hidden, enc_output)\n",
        "\n",
        "    # x 在通过嵌入层后的形状 == （批大小，1，嵌入维度）\n",
        "    x = self.embedding(x)\n",
        "\n",
        "    # x 在拼接 （concatenation） 后的形状 == （批大小，1，嵌入维度 + 隐藏层大小）\n",
        "    x = tf.concat([tf.expand_dims(context_vector, 1), x], axis=-1)\n",
        "\n",
        "    # 将合并后的向量传送到 GRU\n",
        "    output, state = self.gru(x)\n",
        "\n",
        "    # 输出的形状 == （批大小 * 1，隐藏层大小）\n",
        "    output = tf.reshape(output, (-1, output.shape[2]))\n",
        "\n",
        "    # 输出的形状 == （批大小，vocab）\n",
        "    x = self.fc(output)\n",
        "\n",
        "    return x, state, attention_weights"
      ],
      "execution_count": null,
      "outputs": []
    },
    {
      "cell_type": "code",
      "metadata": {
        "id": "vNyQnyY_C9dH",
        "outputId": "c216548e-afb2-4c27-9a15-a0a123216cca",
        "colab": {
          "base_uri": "https://localhost:8080/"
        }
      },
      "source": [
        "decoder = Decoder(vocab_tar_size, embedding_dim, units, BATCH_SIZE)\n",
        "\n",
        "sample_decoder_output, _, _ = decoder(tf.random.uniform((64, 1)),\n",
        "                                      sample_hidden, sample_output)\n",
        "\n",
        "print ('Decoder output shape: (batch_size, vocab size) {}'.format(sample_decoder_output.shape))"
      ],
      "execution_count": null,
      "outputs": [
        {
          "output_type": "stream",
          "text": [
            "Decoder output shape: (batch_size, vocab size) (64, 2646)\n"
          ],
          "name": "stdout"
        }
      ]
    },
    {
      "cell_type": "code",
      "metadata": {
        "id": "JnAPAERGC_6g"
      },
      "source": [
        "optimizer = tf.keras.optimizers.Adam()\n",
        "loss_object = tf.keras.losses.SparseCategoricalCrossentropy(\n",
        "    from_logits=True, reduction='none')\n",
        "\n",
        "def loss_function(real, pred):\n",
        "  mask = tf.math.logical_not(tf.math.equal(real, 0))\n",
        "  loss_ = loss_object(real, pred)\n",
        "\n",
        "  mask = tf.cast(mask, dtype=loss_.dtype)\n",
        "  loss_ *= mask\n",
        "\n",
        "  return tf.reduce_mean(loss_)"
      ],
      "execution_count": null,
      "outputs": []
    },
    {
      "cell_type": "code",
      "metadata": {
        "id": "7ZtgxZg3DJdn"
      },
      "source": [
        "checkpoint_dir = './training_checkpoints'\n",
        "checkpoint_prefix = os.path.join(checkpoint_dir, \"ckpt\")\n",
        "checkpoint = tf.train.Checkpoint(optimizer=optimizer,\n",
        "                                 encoder=encoder,\n",
        "                                 decoder=decoder)"
      ],
      "execution_count": null,
      "outputs": []
    },
    {
      "cell_type": "code",
      "metadata": {
        "id": "mRMomHDADLu1"
      },
      "source": [
        "@tf.function\n",
        "def train_step(inp, targ, enc_hidden):\n",
        "  loss = 0\n",
        "\n",
        "  with tf.GradientTape() as tape:\n",
        "    enc_output, enc_hidden = encoder(inp, enc_hidden)\n",
        "    dec_hidden = enc_hidden\n",
        "    dec_input = tf.expand_dims([0] * BATCH_SIZE, 1)\n",
        "\n",
        "    # 教师强制 - 将目标词作为下一个输入\n",
        "    for t in range(1, targ.shape[1]):\n",
        "      # 将编码器输出 （enc_output） 传送至解码器\n",
        "      predictions, dec_hidden, _ = decoder(dec_input, dec_hidden, enc_output)\n",
        "      loss += loss_function(targ[:, t], predictions)\n",
        "\n",
        "      # 使用教师强制\n",
        "      dec_input = tf.expand_dims(targ[:, t], 1)\n",
        "\n",
        "  batch_loss = (loss / int(targ.shape[1]))\n",
        "\n",
        "  variables = encoder.trainable_variables + decoder.trainable_variables\n",
        "\n",
        "  gradients = tape.gradient(loss, variables)\n",
        "\n",
        "  optimizer.apply_gradients(zip(gradients, variables))\n",
        "\n",
        "  return batch_loss"
      ],
      "execution_count": null,
      "outputs": []
    },
    {
      "cell_type": "code",
      "metadata": {
        "id": "Qnzn-j5uDQ_c",
        "outputId": "cb38f602-c2b3-4e5f-f52d-4cd7e49cf408",
        "colab": {
          "base_uri": "https://localhost:8080/"
        }
      },
      "source": [
        "EPOCHS = 10\n",
        "for epoch in range(EPOCHS):\n",
        "  start = time.time()\n",
        "  enc_hidden = encoder.initialize_hidden_state()\n",
        "  total_loss = 0\n",
        "  for (batch, (inp, targ)) in enumerate(dataset.take(steps_per_epoch)):\n",
        "    batch_loss = train_step(inp, targ, enc_hidden)\n",
        "    total_loss += batch_loss\n",
        "    if batch % 100 == 0:\n",
        "        print('Epoch {} Batch {} Loss {:.4f}'.format(epoch + 1,\n",
        "                                 batch,\n",
        "                                 batch_loss.numpy()))\n",
        "  # 每 2 个周期（epoch），保存（检查点）一次模型\n",
        "  if (epoch + 1) % 2 == 0:\n",
        "    checkpoint.save(file_prefix = checkpoint_prefix)\n",
        "  print('Epoch {} Loss {:.4f}'.format(epoch + 1, total_loss / steps_per_epoch))\n",
        "  print('Time taken for 1 epoch {} sec\\n'.format(time.time() - start))"
      ],
      "execution_count": null,
      "outputs": [
        {
          "output_type": "stream",
          "text": [
            "Epoch 1 Batch 0 Loss 2.0658\n",
            "Epoch 1 Loss 1.5670\n",
            "Time taken for 1 epoch 1.3203003406524658 sec\n",
            "\n",
            "Epoch 2 Batch 0 Loss 1.6858\n",
            "Epoch 2 Loss 1.3884\n",
            "Time taken for 1 epoch 1.6881139278411865 sec\n",
            "\n",
            "Epoch 3 Batch 0 Loss 1.6572\n",
            "Epoch 3 Loss 1.2813\n",
            "Time taken for 1 epoch 1.3335912227630615 sec\n",
            "\n",
            "Epoch 4 Batch 0 Loss 1.4960\n",
            "Epoch 4 Loss 1.2042\n",
            "Time taken for 1 epoch 1.654665231704712 sec\n",
            "\n",
            "Epoch 5 Batch 0 Loss 1.4455\n",
            "Epoch 5 Loss 1.1195\n",
            "Time taken for 1 epoch 1.336137056350708 sec\n",
            "\n",
            "Epoch 6 Batch 0 Loss 1.3381\n",
            "Epoch 6 Loss 1.0231\n",
            "Time taken for 1 epoch 1.669050931930542 sec\n",
            "\n",
            "Epoch 7 Batch 0 Loss 1.1833\n",
            "Epoch 7 Loss 0.9219\n",
            "Time taken for 1 epoch 1.333808183670044 sec\n",
            "\n",
            "Epoch 8 Batch 0 Loss 1.0573\n",
            "Epoch 8 Loss 0.8232\n",
            "Time taken for 1 epoch 1.6611442565917969 sec\n",
            "\n",
            "Epoch 9 Batch 0 Loss 0.8325\n",
            "Epoch 9 Loss 0.7212\n",
            "Time taken for 1 epoch 1.3357813358306885 sec\n",
            "\n",
            "Epoch 10 Batch 0 Loss 0.7343\n",
            "Epoch 10 Loss 0.6207\n",
            "Time taken for 1 epoch 1.6627309322357178 sec\n",
            "\n"
          ],
          "name": "stdout"
        }
      ]
    },
    {
      "cell_type": "code",
      "metadata": {
        "id": "xGk_DsUnDUGg"
      },
      "source": [
        "def evaluate(sentence):\n",
        "    attention_plot = np.zeros((target_sentence_max_length, source_sentence_max_length))\n",
        "\n",
        "    sentence = preprocess_sentence(sentence)\n",
        "\n",
        "    inputs = [inp_lang.word_index[i] for i in sentence.split(' ')]\n",
        "    inputs = tf.keras.preprocessing.sequence.pad_sequences([inputs],\n",
        "                                 maxlen=source_sentence_max_length,\n",
        "                                 padding='post')\n",
        "    inputs = tf.convert_to_tensor(inputs)\n",
        "\n",
        "    result = ''\n",
        "\n",
        "    hidden = [tf.zeros((1, units))]\n",
        "    enc_out, enc_hidden = encoder(inputs, hidden)\n",
        "\n",
        "    dec_hidden = enc_hidden\n",
        "    dec_input = tf.expand_dims([targ_lang.word_index['<start>']], 0)\n",
        "\n",
        "    for t in range(max_length_targ):\n",
        "        predictions, dec_hidden, attention_weights = decoder(dec_input,\n",
        "                                     dec_hidden,\n",
        "                                     enc_out)\n",
        "\n",
        "        # 存储注意力权重以便后面制图\n",
        "        attention_weights = tf.reshape(attention_weights, (-1, ))\n",
        "        attention_plot[t] = attention_weights.numpy()\n",
        "\n",
        "        predicted_id = tf.argmax(predictions[0]).numpy()\n",
        "\n",
        "        result += targ_lang.index_word[predicted_id] + ' '\n",
        "\n",
        "        if targ_lang.index_word[predicted_id] == '<end>':\n",
        "            return result, sentence, attention_plot\n",
        "\n",
        "        # 预测的 ID 被输送回模型\n",
        "        dec_input = tf.expand_dims([predicted_id], 0)\n",
        "\n",
        "    return result, sentence, attention_plot"
      ],
      "execution_count": null,
      "outputs": []
    },
    {
      "cell_type": "code",
      "metadata": {
        "id": "iNFu2-fJGnpf"
      },
      "source": [
        "# 注意力权重制图函数\n",
        "def plot_attention(attention, sentence, predicted_sentence):\n",
        "    fig = plt.figure(figsize=(10,10))\n",
        "    ax = fig.add_subplot(1, 1, 1)\n",
        "    ax.matshow(attention, cmap='viridis')\n",
        "\n",
        "    fontdict = {'fontsize': 14}\n",
        "\n",
        "    ax.set_xticklabels([''] + sentence, fontdict=fontdict, rotation=90)\n",
        "    ax.set_yticklabels([''] + predicted_sentence, fontdict=fontdict)\n",
        "\n",
        "    ax.xaxis.set_major_locator(ticker.MultipleLocator(1))\n",
        "    ax.yaxis.set_major_locator(ticker.MultipleLocator(1))\n",
        "\n",
        "    plt.show()"
      ],
      "execution_count": null,
      "outputs": []
    },
    {
      "cell_type": "code",
      "metadata": {
        "id": "1ea1f0PuGqJX"
      },
      "source": [
        "def translate(sentence):\n",
        "    result, sentence, attention_plot = evaluate(sentence)\n",
        "\n",
        "    print('Input: %s' % (sentence))\n",
        "    print('Predicted translation: {}'.format(result))\n",
        "\n",
        "    attention_plot = attention_plot[:len(result.split(' ')), :len(sentence.split(' '))]\n",
        "    plot_attention(attention_plot, sentence.split(' '), result.split(' '))"
      ],
      "execution_count": null,
      "outputs": []
    },
    {
      "cell_type": "code",
      "metadata": {
        "id": "ocCFsPjfGs3O",
        "outputId": "b71fe993-1700-4b3e-cb43-87414c88780a",
        "colab": {
          "base_uri": "https://localhost:8080/"
        }
      },
      "source": [
        "# 恢复检查点目录 （checkpoint_dir） 中最新的检查点\n",
        "checkpoint.restore(tf.train.latest_checkpoint(checkpoint_dir))"
      ],
      "execution_count": null,
      "outputs": [
        {
          "output_type": "execute_result",
          "data": {
            "text/plain": [
              "<tensorflow.python.training.tracking.util.CheckpointLoadStatus at 0x7f0d248cf6d8>"
            ]
          },
          "metadata": {
            "tags": []
          },
          "execution_count": 85
        }
      ]
    },
    {
      "cell_type": "code",
      "metadata": {
        "id": "iFxmz7KtGvcE",
        "outputId": "bfc96aff-4f8c-4da3-9bf7-0f92c9b78797",
        "colab": {
          "base_uri": "https://localhost:8080/",
          "height": 308
        }
      },
      "source": [
        "translate(u'hace mucho frio aqui.')"
      ],
      "execution_count": null,
      "outputs": [
        {
          "output_type": "error",
          "ename": "NameError",
          "evalue": "ignored",
          "traceback": [
            "\u001b[0;31m---------------------------------------------------------------------------\u001b[0m",
            "\u001b[0;31mNameError\u001b[0m                                 Traceback (most recent call last)",
            "\u001b[0;32m<ipython-input-86-a7e085e16f9f>\u001b[0m in \u001b[0;36m<module>\u001b[0;34m()\u001b[0m\n\u001b[0;32m----> 1\u001b[0;31m \u001b[0mtranslate\u001b[0m\u001b[0;34m(\u001b[0m\u001b[0;34mu'hace mucho frio aqui.'\u001b[0m\u001b[0;34m)\u001b[0m\u001b[0;34m\u001b[0m\u001b[0;34m\u001b[0m\u001b[0m\n\u001b[0m",
            "\u001b[0;32m<ipython-input-84-c5a87b4b04cb>\u001b[0m in \u001b[0;36mtranslate\u001b[0;34m(sentence)\u001b[0m\n\u001b[1;32m      1\u001b[0m \u001b[0;32mdef\u001b[0m \u001b[0mtranslate\u001b[0m\u001b[0;34m(\u001b[0m\u001b[0msentence\u001b[0m\u001b[0;34m)\u001b[0m\u001b[0;34m:\u001b[0m\u001b[0;34m\u001b[0m\u001b[0;34m\u001b[0m\u001b[0m\n\u001b[0;32m----> 2\u001b[0;31m     \u001b[0mresult\u001b[0m\u001b[0;34m,\u001b[0m \u001b[0msentence\u001b[0m\u001b[0;34m,\u001b[0m \u001b[0mattention_plot\u001b[0m \u001b[0;34m=\u001b[0m \u001b[0mevaluate\u001b[0m\u001b[0;34m(\u001b[0m\u001b[0msentence\u001b[0m\u001b[0;34m)\u001b[0m\u001b[0;34m\u001b[0m\u001b[0;34m\u001b[0m\u001b[0m\n\u001b[0m\u001b[1;32m      3\u001b[0m \u001b[0;34m\u001b[0m\u001b[0m\n\u001b[1;32m      4\u001b[0m     \u001b[0mprint\u001b[0m\u001b[0;34m(\u001b[0m\u001b[0;34m'Input: %s'\u001b[0m \u001b[0;34m%\u001b[0m \u001b[0;34m(\u001b[0m\u001b[0msentence\u001b[0m\u001b[0;34m)\u001b[0m\u001b[0;34m)\u001b[0m\u001b[0;34m\u001b[0m\u001b[0;34m\u001b[0m\u001b[0m\n\u001b[1;32m      5\u001b[0m     \u001b[0mprint\u001b[0m\u001b[0;34m(\u001b[0m\u001b[0;34m'Predicted translation: {}'\u001b[0m\u001b[0;34m.\u001b[0m\u001b[0mformat\u001b[0m\u001b[0;34m(\u001b[0m\u001b[0mresult\u001b[0m\u001b[0;34m)\u001b[0m\u001b[0;34m)\u001b[0m\u001b[0;34m\u001b[0m\u001b[0;34m\u001b[0m\u001b[0m\n",
            "\u001b[0;32m<ipython-input-82-81bc890ab1d0>\u001b[0m in \u001b[0;36mevaluate\u001b[0;34m(sentence)\u001b[0m\n\u001b[1;32m      2\u001b[0m     \u001b[0mattention_plot\u001b[0m \u001b[0;34m=\u001b[0m \u001b[0mnp\u001b[0m\u001b[0;34m.\u001b[0m\u001b[0mzeros\u001b[0m\u001b[0;34m(\u001b[0m\u001b[0;34m(\u001b[0m\u001b[0mtarget_sentence_max_length\u001b[0m\u001b[0;34m,\u001b[0m \u001b[0msource_sentence_max_length\u001b[0m\u001b[0;34m)\u001b[0m\u001b[0;34m)\u001b[0m\u001b[0;34m\u001b[0m\u001b[0;34m\u001b[0m\u001b[0m\n\u001b[1;32m      3\u001b[0m \u001b[0;34m\u001b[0m\u001b[0m\n\u001b[0;32m----> 4\u001b[0;31m     \u001b[0msentence\u001b[0m \u001b[0;34m=\u001b[0m \u001b[0mpreprocess_sentence\u001b[0m\u001b[0;34m(\u001b[0m\u001b[0msentence\u001b[0m\u001b[0;34m)\u001b[0m\u001b[0;34m\u001b[0m\u001b[0;34m\u001b[0m\u001b[0m\n\u001b[0m\u001b[1;32m      5\u001b[0m \u001b[0;34m\u001b[0m\u001b[0m\n\u001b[1;32m      6\u001b[0m     \u001b[0minputs\u001b[0m \u001b[0;34m=\u001b[0m \u001b[0;34m[\u001b[0m\u001b[0minp_lang\u001b[0m\u001b[0;34m.\u001b[0m\u001b[0mword_index\u001b[0m\u001b[0;34m[\u001b[0m\u001b[0mi\u001b[0m\u001b[0;34m]\u001b[0m \u001b[0;32mfor\u001b[0m \u001b[0mi\u001b[0m \u001b[0;32min\u001b[0m \u001b[0msentence\u001b[0m\u001b[0;34m.\u001b[0m\u001b[0msplit\u001b[0m\u001b[0;34m(\u001b[0m\u001b[0;34m' '\u001b[0m\u001b[0;34m)\u001b[0m\u001b[0;34m]\u001b[0m\u001b[0;34m\u001b[0m\u001b[0;34m\u001b[0m\u001b[0m\n",
            "\u001b[0;31mNameError\u001b[0m: name 'preprocess_sentence' is not defined"
          ]
        }
      ]
    },
    {
      "cell_type": "code",
      "metadata": {
        "id": "YsapsXoSG0Lb",
        "outputId": "6cf203c8-e015-4d08-ea76-b5a653082000",
        "colab": {
          "base_uri": "https://localhost:8080/"
        }
      },
      "source": [
        "tf.expand_dims([[1,2,3],[1,2,3]], 1)"
      ],
      "execution_count": null,
      "outputs": [
        {
          "output_type": "execute_result",
          "data": {
            "text/plain": [
              "<tf.Tensor: shape=(2, 1, 3), dtype=int32, numpy=\n",
              "array([[[1, 2, 3]],\n",
              "\n",
              "       [[1, 2, 3]]], dtype=int32)>"
            ]
          },
          "metadata": {
            "tags": []
          },
          "execution_count": 117
        }
      ]
    },
    {
      "cell_type": "code",
      "metadata": {
        "id": "LRTV-i3fLMub"
      },
      "source": [
        " "
      ],
      "execution_count": null,
      "outputs": []
    }
  ]
}