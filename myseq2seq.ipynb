{
  "nbformat": 4,
  "nbformat_minor": 0,
  "metadata": {
    "colab": {
      "name": "myseq2seq.ipynb",
      "provenance": [],
      "collapsed_sections": [],
      "authorship_tag": "ABX9TyMaJrOa7AriK+PlEz46+d3d",
      "include_colab_link": true
    },
    "kernelspec": {
      "name": "python3",
      "display_name": "Python 3"
    }
  },
  "cells": [
    {
      "cell_type": "markdown",
      "metadata": {
        "id": "view-in-github",
        "colab_type": "text"
      },
      "source": [
        "<a href=\"https://colab.research.google.com/github/Dreaming-world/learn_tensorflow_nlp/blob/master/myseq2seq.ipynb\" target=\"_parent\"><img src=\"https://colab.research.google.com/assets/colab-badge.svg\" alt=\"Open In Colab\"/></a>"
      ]
    },
    {
      "cell_type": "code",
      "metadata": {
        "id": "dHWSdQaEkaUH"
      },
      "source": [
        "import tensorflow as tf\n",
        "import matplotlib.pyplot as plt\n",
        "import matplotlib.ticker as ticker\n",
        "from sklearn.model_selection import train_test_split\n",
        "import unicodedata\n",
        "import re\n",
        "import numpy as np\n",
        "import os\n",
        "import io\n",
        "import time"
      ],
      "execution_count": 1,
      "outputs": []
    },
    {
      "cell_type": "markdown",
      "metadata": {
        "id": "YvOO8HmZk7V9"
      },
      "source": [
        "# 下载数据集"
      ]
    },
    {
      "cell_type": "code",
      "metadata": {
        "id": "fwU0vDtXk6Mb",
        "outputId": "523f4193-b63b-467c-d425-c271ed99c3f6",
        "colab": {
          "base_uri": "https://localhost:8080/"
        }
      },
      "source": [
        "# 下载文件\n",
        "path_to_zip = tf.keras.utils.get_file(\n",
        "    'spa-eng.zip', origin='http://storage.googleapis.com/download.tensorflow.org/data/spa-eng.zip',\n",
        "    extract=True)\n",
        "\n",
        "path_to_file = os.path.dirname(path_to_zip)+\"/spa-eng/spa.txt\""
      ],
      "execution_count": 2,
      "outputs": [
        {
          "output_type": "stream",
          "text": [
            "Downloading data from http://storage.googleapis.com/download.tensorflow.org/data/spa-eng.zip\n",
            "2646016/2638744 [==============================] - 0s 0us/step\n"
          ],
          "name": "stdout"
        }
      ]
    },
    {
      "cell_type": "markdown",
      "metadata": {
        "id": "ty_tjobGEXWz"
      },
      "source": [
        "# 分离相互翻译的文本"
      ]
    },
    {
      "cell_type": "code",
      "metadata": {
        "id": "T7xznOd8mE10",
        "outputId": "11e8e699-d871-46b2-e5d6-e07dada3241c",
        "colab": {
          "base_uri": "https://localhost:8080/"
        }
      },
      "source": [
        "source_text = [] # 被翻译的文本\n",
        "target_text = [] # 翻译成的文本\n",
        "with open(path_to_file, \"r\") as f:\n",
        "  line = f.readline()\n",
        "  while line:\n",
        "    source_text.append(line.split(\"\\t\")[0].strip())\n",
        "    target_text.append(\"<start> \" + line.split(\"\\t\")[1].strip() + \" <end>\")\n",
        "    line = f.readline()\n",
        "print(len(source_text), len(target_text))\n",
        "print(source_text[5:10])\n",
        "print(target_text[5:10])"
      ],
      "execution_count": 3,
      "outputs": [
        {
          "output_type": "stream",
          "text": [
            "118964 118964\n",
            "['Run!', 'Run.', 'Who?', 'Fire!', 'Fire!']\n",
            "['<start> ¡Corre! <end>', '<start> Corred. <end>', '<start> ¿Quién? <end>', '<start> ¡Fuego! <end>', '<start> ¡Incendio! <end>']\n"
          ],
          "name": "stdout"
        }
      ]
    },
    {
      "cell_type": "code",
      "metadata": {
        "id": "ORMirM_D9_pD"
      },
      "source": [
        "source_text = source_text[:300]\n",
        "target_text =target_text[:300]"
      ],
      "execution_count": 4,
      "outputs": []
    },
    {
      "cell_type": "markdown",
      "metadata": {
        "id": "1m6xa5QHEjjK"
      },
      "source": [
        "# 生成id2char，以及char2id"
      ]
    },
    {
      "cell_type": "code",
      "metadata": {
        "id": "aUkmsrZGqBCS",
        "outputId": "e6e579e8-2098-4a05-ae9a-ddbb30d797fa",
        "colab": {
          "base_uri": "https://localhost:8080/"
        }
      },
      "source": [
        "source_char_id = {}\n",
        "source_char_id[\"<padding>\"] = 0\n",
        "source_char_id[\"<UNK>\"] = 1\n",
        "for sentence in source_text:\n",
        "  for char in sentence.split(\" \"):\n",
        "    if char not in source_char_id:\n",
        "      source_char_id[char] = len(source_char_id)\n",
        "print(source_char_id)\n",
        "source_id_char = {source_char_id[key]:key for key in source_char_id.keys()}"
      ],
      "execution_count": 5,
      "outputs": [
        {
          "output_type": "stream",
          "text": [
            "{'<padding>': 0, '<UNK>': 1, 'Go.': 2, 'Hi.': 3, 'Run!': 4, 'Run.': 5, 'Who?': 6, 'Fire!': 7, 'Help!': 8, 'Jump!': 9, 'Jump.': 10, 'Stop!': 11, 'Wait!': 12, 'Wait.': 13, 'Go': 14, 'on.': 15, 'Hello!': 16, 'I': 17, 'ran.': 18, 'try.': 19, 'won!': 20, 'Oh': 21, 'no!': 22, 'Relax.': 23, 'Smile.': 24, 'Attack!': 25, 'Get': 26, 'up.': 27, 'now.': 28, 'Got': 29, 'it!': 30, 'it?': 31, 'He': 32, 'Hop': 33, 'in.': 34, 'Hug': 35, 'me.': 36, 'fell.': 37, 'know.': 38, 'left.': 39, 'lied.': 40, 'lost.': 41, 'quit.': 42, 'work.': 43, \"I'm\": 44, '19.': 45, 'Listen.': 46, 'No': 47, 'way!': 48, 'Really?': 49, 'Thanks.': 50, 'Try': 51, 'it.': 52, 'We': 53, 'won.': 54, 'Why': 55, 'me?': 56, 'Ask': 57, 'Tom.': 58, 'Awesome!': 59, 'Be': 60, 'calm.': 61, 'cool.': 62, 'fair.': 63, 'kind.': 64, 'nice.': 65, 'Beat': 66, 'Call': 67, 'us.': 68, 'Come': 69, 'on!': 70, 'Drop': 71, 'out!': 72, 'out.': 73, 'away!': 74, 'away.': 75, 'home.': 76, 'slow.': 77, 'Goodbye!': 78, 'Hang': 79, 'came.': 80, 'Help': 81, 'me!': 82, 'Hit': 83, 'Hold': 84, 'agree.': 85, 'bowed.': 86, 'moved.': 87, 'slept.': 88, 'tried.': 89, \"I'll\": 90, 'go.': 91, 'fat.': 92, 'fit.': 93, 'hit!': 94, 'old.': 95, 'shy.': 96, 'wet.': 97, \"It's\": 98, 'OK.': 99, 'Join': 100, 'Keep': 101, 'Me,': 102, 'too.': 103, 'Open': 104, 'Perfect!': 105, 'See': 106, 'you.': 107, 'Show': 108, 'Shut': 109, 'up!': 110, 'Skip': 111, 'So': 112, 'long.': 113, 'Stop': 114, 'Take': 115, 'Tell': 116, 'Tom': 117, 'ate.': 118, 'Wait': 119, 'Wake': 120, 'Wash': 121, 'care.': 122, 'Welcome.': 123, 'Who': 124, 'ate?': 125, 'ran?': 126, 'won?': 127, 'not?': 128, 'You': 129, 'run.': 130, 'Am': 131, 'fat?': 132, 'them.': 133, 'Back': 134, 'off!': 135, 'off.': 136, 'a': 137, 'man.': 138, 'brave.': 139, 'brief.': 140, 'quiet.': 141, 'still.': 142, 'Cheer': 143, 'Cool': 144, 'Cuff': 145, 'him.': 146, \"Don't\": 147, 'Drive': 148, 'Find': 149, 'Fix': 150, 'this.': 151, 'down!': 152, 'down.': 153, 'lost!': 154, 'real!': 155, 'real.': 156, 'ahead!': 157, 'ahead.': 158, 'on': 159, 'Good': 160, 'job!': 161, 'Grab': 162, 'Have': 163, 'fun.': 164, 'spoke.': 165, 'tries.': 166, 'Hi,': 167, 'guys.': 168, 'How': 169, 'cute!': 170, 'deep?': 171, 'Humor': 172, 'Hurry': 173, 'agreed.': 174, 'am': 175, 'ate': 176, 'can': 177, 'did': 178, 'failed.': 179, 'forgot.': 180, 'get': 181, 'by.': 182, 'got': 183, 'phoned.': 184, 'refuse.': 185, 'resign.': 186, 'saw': 187, 'smiled.': 188, 'stayed.': 189, 'talked.': 190, 'use': 191, 'waited.': 192, 'pay.': 193}\n"
          ],
          "name": "stdout"
        }
      ]
    },
    {
      "cell_type": "code",
      "metadata": {
        "id": "_ZgFwjAkrMHP",
        "outputId": "64638e21-2f5f-46ff-bc6c-330ac726ba94",
        "colab": {
          "base_uri": "https://localhost:8080/"
        }
      },
      "source": [
        "target_char_id = {}\n",
        "target_char_id[\"<padding>\"] = 0\n",
        "for sentence in target_text:\n",
        "  for char in sentence.split(\" \"):\n",
        "    if char not in target_char_id:\n",
        "      target_char_id[char] = len(target_char_id)\n",
        "print(target_char_id)\n",
        "target_id_char = {target_char_id[key]:key for key in target_char_id.keys()}"
      ],
      "execution_count": 6,
      "outputs": [
        {
          "output_type": "stream",
          "text": [
            "{'<padding>': 0, '<start>': 1, 'Ve.': 2, '<end>': 3, 'Vete.': 4, 'Vaya.': 5, 'Váyase.': 6, 'Hola.': 7, '¡Corre!': 8, 'Corred.': 9, '¿Quién?': 10, '¡Fuego!': 11, '¡Incendio!': 12, '¡Disparad!': 13, '¡Ayuda!': 14, '¡Socorro!': 15, '¡Auxilio!': 16, '¡Salta!': 17, 'Salte.': 18, '¡Parad!': 19, '¡Para!': 20, '¡Pare!': 21, '¡Espera!': 22, 'Esperen.': 23, 'Continúa.': 24, 'Continúe.': 25, 'Corrí.': 26, 'Corría.': 27, 'Lo': 28, 'intento.': 29, '¡He': 30, 'ganado!': 31, '¡Oh,': 32, 'no!': 33, 'Tomátelo': 34, 'con': 35, 'soda.': 36, 'Sonríe.': 37, '¡Al': 38, 'ataque!': 39, '¡Atacad!': 40, 'Levanta.': 41, 'Ve': 42, 'ahora': 43, 'mismo.': 44, '¡Lo': 45, 'tengo!': 46, '¿Lo': 47, 'pillas?': 48, '¿Entendiste?': 49, 'Él': 50, 'corrió.': 51, 'Métete': 52, 'adentro.': 53, 'Abrázame.': 54, 'Me': 55, 'caí.': 56, 'Yo': 57, 'lo': 58, 'sé.': 59, 'Salí.': 60, 'Mentí.': 61, 'Perdí.': 62, 'Dimito.': 63, 'Renuncié.': 64, 'Estoy': 65, 'trabajando.': 66, 'Tengo': 67, 'diecinueve.': 68, 'levantado.': 69, 'Escucha.': 70, 'Escuche.': 71, 'Escuchen.': 72, '¡No': 73, 'puede': 74, 'ser!': 75, 'De': 76, 'ninguna': 77, 'manera.': 78, '¡De': 79, 'manera!': 80, '¡Imposible!': 81, 'ningún': 82, 'modo!': 83, 'eso': 84, 'nada!': 85, '¡Ni': 86, 'cagando!': 87, '¡Mangos!': 88, '¡Minga!': 89, 'en': 90, 'pedo!': 91, '¿En': 92, 'serio?': 93, '¿La': 94, 'verdad?': 95, '¡Gracias!': 96, 'Gracias.': 97, 'Pruébalo.': 98, 'procuramos.': 99, 'Ganamos.': 100, '¿Por': 101, 'qué': 102, 'yo?': 103, 'Pregúntale': 104, 'a': 105, 'Tom.': 106, '¡Órale!': 107, 'Mantente': 108, 'calma.': 109, 'Estate': 110, 'tranquilo.': 111, 'Sé': 112, 'justo.': 113, 'Sean': 114, 'gentiles.': 115, 'agradable.': 116, 'Pírate.': 117, 'Llamame.': 118, 'Llamadme.': 119, 'Llámame.': 120, 'Llámanos.': 121, 'Entre.': 122, 'Pase.': 123, '¡Entren!': 124, 'Ándale.': 125, 'Suéltalo.': 126, 'Agarra': 127, 'Bájate.': 128, 'Sal.': 129, 'Salid.': 130, 'Salgan.': 131, '¡Vete': 132, 'de': 133, 'aquí!': 134, '¡Lárgate!': 135, '¡Salga': 136, '¡Largo!': 137, 'ya!': 138, '¡A': 139, 'la': 140, 'calle!': 141, 'Lárguese.': 142, 'Vete': 143, 'casa.': 144, 'Vaya': 145, 'despacio.': 146, '¡Hasta': 147, 'luego!': 148, 'Hasta': 149, 'vista.': 150, '¡Chau!': 151, '¡Espera': 152, 'un': 153, 'momento!': 154, '¡Un': 155, 'segundo!': 156, 'fuertemente.': 157, 'vino.': 158, 'renunció.': 159, 'Ayúdame.': 160, 'Échame': 161, 'una': 162, 'mano.': 163, 'Ayudame.': 164, 'Ayúdanos.': 165, 'Golpea': 166, 'Espera.': 167, 'Resista.': 168, 'Resiste.': 169, 'Abraza': 170, 'acuerdo.': 171, 'incliné.': 172, 'he': 173, 'mudado.': 174, 'mudé.': 175, 'trasladé.': 176, 'trasladado.': 177, 'Dormí.': 178, 'intenté.': 179, 'Iré.': 180, 'Soy': 181, 'gordo.': 182, 'gorda.': 183, 'forma.': 184, 'afectado.': 185, 'viejo.': 186, 'tímido.': 187, 'mojada.': 188, 'Está': 189, 'bien.': 190, 'yo.': 191, 'Únete': 192, 'nosotros.': 193, 'parte': 194, 'nuestra.': 195, 'Guárdalo.': 196, 'Yo,': 197, 'también.': 198, 'Abre.': 199, '¡Perfecto!': 200, 'Nos': 201, 'vemos.': 202, 'Muéstramelo.': 203, 'Enséñamelo.': 204, 'Mostrame.': 205, '¡Cierra': 206, 'boca!': 207, '¡Cerrá': 208, 'el': 209, 'pico!': 210, 'Sáltatelo.': 211, 'luego.': 212, 'Páralo.': 213, 'Deténlo.': 214, 'Cógelo.': 215, 'Decime.': 216, 'Tom': 217, 'comió.': 218, 'ganó.': 219, 'Espérame': 220, 'despierto.': 221, '¡Despierta!': 222, '¡Despiértate!': 223, '¡Despertate!': 224, 'Despierta.': 225, 'Lávate': 226, 'las': 227, 'manos.': 228, 'preocupamos.': 229, 'sabemos.': 230, 'Perdimos.': 231, 'Bienvenidos.': 232, 'Bienvenidas.': 233, '¿Quién': 234, 'comió?': 235, 'corría?': 236, 'corrió?': 237, 'ganó?': 238, 'ha': 239, 'ganado?': 240, 'no?': 241, 'Corre.': 242, 'Has': 243, 'ganado.': 244, '¿Estoy': 245, 'gordo?': 246, 'Preguntales.': 247, 'Pregúntales.': 248, 'Aparta.': 249, 'Apártate.': 250, 'hombre.': 251, 'fuerte.': 252, 'breve.': 253, 'Sea': 254, 'breves.': 255, 'quieto.': 256, 'No': 257, 'te': 258, 'muevas.': 259, '¡Llamalo': 260, 'Tomás!': 261, '¡Llámalo': 262, '¡Llámenlo': 263, 'Anímate.': 264, 'Venga.': 265, '¡Cálmate!': 266, 'Espósale.': 267, 'vayas.': 268, 'Encontralo': 269, 'Tomás.': 270, 'Encuéntralo': 271, 'Encuéntrelo': 272, 'Encuéntrenlo': 273, 'Encuentre': 274, 'Encuentren': 275, 'Arregla': 276, 'esto.': 277, 'Ponte': 278, 'ello.': 279, 'Abajo.': 280, 'Túmbate.': 281, '¡Piérdete!': 282, 'Esfúmate.': 283, '¡Piénsalo': 284, 'bien!': 285, 'Abre': 286, 'los': 287, 'ojos.': 288, 'Adelante.': 289, 'Entra.': 290, 'Entren.': 291, 'Entrá.': 292, 'Entrad.': 293, '¡Buen': 294, 'trabajo!': 295, 'Sujeta': 296, 'Agárralo.': 297, 'Diviértanse.': 298, 'Pásala': 299, 'Pásenla': 300, 'habló.': 301, 'intenta.': 302, 'prueba.': 303, 'Ayuda': 304, 'Ayúdalo.': 305, 'Hola,': 306, '¿qué': 307, 'hay?': 308, 'Ey,': 309, 'chavales.': 310, '¿Qué': 311, 'pasa,': 312, 'troncos?': 313, 'Buenas.': 314, 'tal': 315, 'os': 316, 'va?': 317, 'Hola': 318, 'por': 319, 'aquí.': 320, '¡Qué': 321, 'encanto!': 322, 'tan': 323, 'profundo?': 324, '¿Cómo': 325, 'Hazme': 326, 'favor.': 327, 'Compláceme.': 328, '¡Date': 329, 'prisa!': 330, 'Apresúrate.': 331, 'Convine.': 332, 'Acepté.': 333, 'Accedí.': 334, 'comí.': 335, 'Puedo': 336, 'ir.': 337, 'hice': 338, 'hice.': 339, 'Fracasé.': 340, 'olvidé.': 341, 'arreglo.': 342, 'entiendo.': 343, 'tengo.': 344, 'Llamé': 345, 'teléfono.': 346, 'niego.': 347, 'Renuncio.': 348, 'vi.': 349, 'Sonreí.': 350, 'quedé.': 351, 'Hablé.': 352, 'Hablaba.': 353, 'Charlé.': 354, 'Charlaba.': 355, 'uso.': 356, 'Esperé.': 357, 'pagaré.': 358}\n"
          ],
          "name": "stdout"
        }
      ]
    },
    {
      "cell_type": "markdown",
      "metadata": {
        "id": "mizf4_aIEseV"
      },
      "source": [
        "# 将文本转移成向量表示"
      ]
    },
    {
      "cell_type": "code",
      "metadata": {
        "id": "jzoxJ0QmHxj3"
      },
      "source": [
        "def convert_text_int(char2id, sentence_list):\n",
        "  result = []\n",
        "  for sentence in sentence_list:\n",
        "    result.append([char2id[char] for char in sentence.split(\" \")])\n",
        "  return result\n",
        "  "
      ],
      "execution_count": 7,
      "outputs": []
    },
    {
      "cell_type": "code",
      "metadata": {
        "id": "BOVM4qL9rdt_",
        "outputId": "f4b7e2db-37e3-4f91-e7aa-f0952f1b4ccf",
        "colab": {
          "base_uri": "https://localhost:8080/"
        }
      },
      "source": [
        "source_sentence_int = convert_text_int(source_char_id, source_text)\n",
        "target_sentence_int = convert_text_int(target_char_id, target_text)\n",
        "print(len(source_sentence_int), len(target_sentence_int))\n",
        "print(source_sentence_int[0], target_sentence_int[0])"
      ],
      "execution_count": 8,
      "outputs": [
        {
          "output_type": "stream",
          "text": [
            "300 300\n",
            "[2] [1, 2, 3]\n"
          ],
          "name": "stdout"
        }
      ]
    },
    {
      "cell_type": "markdown",
      "metadata": {
        "id": "NqJgNrhnE0NK"
      },
      "source": [
        "# 统计文本的最大长度"
      ]
    },
    {
      "cell_type": "code",
      "metadata": {
        "id": "_xC33wRfru3P"
      },
      "source": [
        "def max_length_sentecne(sentence_list):\n",
        "  max_length = 0\n",
        "  for sentence in sentence_list:\n",
        "    max_length = max(len(sentence), max_length)\n",
        "  return max_length"
      ],
      "execution_count": 9,
      "outputs": []
    },
    {
      "cell_type": "code",
      "metadata": {
        "id": "rsOQD5BL75In",
        "outputId": "8d19b94c-672c-4df2-cc87-64785ab7594e",
        "colab": {
          "base_uri": "https://localhost:8080/"
        }
      },
      "source": [
        "source_sentence_max_length = max_length_sentecne(source_sentence_int)\n",
        "print(source_sentence_max_length)\n",
        "target_sentence_max_length = max_length_sentecne(target_sentence_int)\n",
        "print(target_sentence_max_length)"
      ],
      "execution_count": 10,
      "outputs": [
        {
          "output_type": "stream",
          "text": [
            "3\n",
            "6\n"
          ],
          "name": "stdout"
        }
      ]
    },
    {
      "cell_type": "code",
      "metadata": {
        "id": "Mhhw1YRz79mc"
      },
      "source": [
        "source_data = tf.keras.preprocessing.sequence.pad_sequences(source_sentence_int, maxlen=source_sentence_max_length)\n",
        "target_data = tf.keras.preprocessing.sequence.pad_sequences(target_sentence_int, maxlen=target_sentence_max_length)"
      ],
      "execution_count": 11,
      "outputs": []
    },
    {
      "cell_type": "code",
      "metadata": {
        "id": "P-QXhMYC9i9A",
        "outputId": "cba07a3e-0d87-4c6b-c4ba-8ff75f29fc78",
        "colab": {
          "base_uri": "https://localhost:8080/"
        }
      },
      "source": [
        "input_tensor_train, input_tensor_val, target_tensor_train, target_tensor_val = train_test_split(source_data, target_data, test_size = 0.2)\n",
        "print(len(input_tensor_train), len(target_tensor_train), len(input_tensor_val), len(target_tensor_val))"
      ],
      "execution_count": 12,
      "outputs": [
        {
          "output_type": "stream",
          "text": [
            "240 240 60 60\n"
          ],
          "name": "stdout"
        }
      ]
    },
    {
      "cell_type": "code",
      "metadata": {
        "id": "zeoI9X33_tyf"
      },
      "source": [
        "def convert(id2char, tensor):\n",
        "  for t in tensor:\n",
        "    if t!=0:\n",
        "      print (\"%d ----> %s\" % (t, id2char[t]))"
      ],
      "execution_count": 13,
      "outputs": []
    },
    {
      "cell_type": "code",
      "metadata": {
        "id": "R0DTYW3L__mW",
        "outputId": "f341b525-506d-46db-fb64-2796e7c2677e",
        "colab": {
          "base_uri": "https://localhost:8080/"
        }
      },
      "source": [
        "print (\"Input Language; index to word mapping\")\n",
        "convert(source_id_char, input_tensor_train[0])\n",
        "print ()\n",
        "print (\"Target Language; index to word mapping\")\n",
        "convert(target_id_char, target_tensor_train[0])"
      ],
      "execution_count": 14,
      "outputs": [
        {
          "output_type": "stream",
          "text": [
            "Input Language; index to word mapping\n",
            "26 ----> Get\n",
            "73 ----> out.\n",
            "\n",
            "Target Language; index to word mapping\n",
            "1 ----> <start>\n",
            "60 ----> Salí.\n",
            "3 ----> <end>\n"
          ],
          "name": "stdout"
        }
      ]
    },
    {
      "cell_type": "code",
      "metadata": {
        "id": "U0Fqgd2ZA5V5"
      },
      "source": [
        "BUFFER_SIZE = len(source_sentence_int)\n",
        "BATCH_SIZE = 64\n",
        "steps_per_epoch = len(source_sentence_int)//BATCH_SIZE\n",
        "embedding_dim = 256\n",
        "units = 1024\n",
        "vocab_inp_size = len(source_char_id)\n",
        "vocab_tar_size = len(target_char_id)\n",
        "\n",
        "# 训练集\n",
        "dataset = tf.data.Dataset.from_tensor_slices((input_tensor_train, target_tensor_train)).shuffle(BUFFER_SIZE)\n",
        "dataset = dataset.batch(BATCH_SIZE, drop_remainder=True)\n",
        "# 测试集\n",
        "test_dataset = tf.data.Dataset.from_tensor_slices((input_tensor_val, target_tensor_val)).shuffle(BUFFER_SIZE)\n",
        "test_dataset = dataset.batch(BATCH_SIZE, drop_remainder=True)"
      ],
      "execution_count": 15,
      "outputs": []
    },
    {
      "cell_type": "code",
      "metadata": {
        "id": "e_VzbNQ_BeP-",
        "outputId": "f5a629df-a4ac-4927-8440-53b51defe9f1",
        "colab": {
          "base_uri": "https://localhost:8080/"
        }
      },
      "source": [
        "example_input_batch, example_target_batch = next(iter(dataset))\n",
        "example_input_batch.shape, example_target_batch.shape"
      ],
      "execution_count": 16,
      "outputs": [
        {
          "output_type": "execute_result",
          "data": {
            "text/plain": [
              "(TensorShape([64, 3]), TensorShape([64, 6]))"
            ]
          },
          "metadata": {
            "tags": []
          },
          "execution_count": 16
        }
      ]
    },
    {
      "cell_type": "code",
      "metadata": {
        "id": "zBD_YM3iBhL9"
      },
      "source": [
        "class Encoder(tf.keras.Model):\n",
        "  def __init__(self, vocab_size, embedding_dim, enc_units, batch_sz):\n",
        "    super(Encoder, self).__init__()\n",
        "    self.batch_sz = batch_sz\n",
        "    self.enc_units = enc_units\n",
        "    self.embedding = tf.keras.layers.Embedding(len(source_char_id), embedding_dim)\n",
        "    self.gru = tf.keras.layers.GRU(self.enc_units,\n",
        "                    return_sequences=True,\n",
        "                    return_state=True,\n",
        "                    recurrent_initializer='glorot_uniform')\n",
        "\n",
        "  def call(self, x, hidden):\n",
        "    x = self.embedding(x)\n",
        "    output, state = self.gru(x,initial_state = hidden)\n",
        "    return output, state\n",
        "\n",
        "  def initialize_hidden_state(self):\n",
        "    return tf.zeros((self.batch_sz, self.enc_units))\n",
        "  "
      ],
      "execution_count": 17,
      "outputs": []
    },
    {
      "cell_type": "code",
      "metadata": {
        "id": "_-CrPX40B3dm",
        "outputId": "897aa919-1b91-4d86-ffad-104b8c714b88",
        "colab": {
          "base_uri": "https://localhost:8080/"
        }
      },
      "source": [
        "encoder = Encoder(vocab_inp_size, embedding_dim, units, BATCH_SIZE)\n",
        "# 样本输入\n",
        "sample_hidden = encoder.initialize_hidden_state()\n",
        "sample_output, sample_hidden = encoder(example_input_batch, sample_hidden)\n",
        "print ('Encoder output shape: (batch size, sequence length, units) {}'.format(sample_output.shape))\n",
        "print ('Encoder Hidden state shape: (batch size, units) {}'.format(sample_hidden.shape))"
      ],
      "execution_count": 18,
      "outputs": [
        {
          "output_type": "stream",
          "text": [
            "Encoder output shape: (batch size, sequence length, units) (64, 3, 1024)\n",
            "Encoder Hidden state shape: (batch size, units) (64, 1024)\n"
          ],
          "name": "stdout"
        }
      ]
    },
    {
      "cell_type": "code",
      "metadata": {
        "id": "bfVX49gAB7jB"
      },
      "source": [
        "class BahdanauAttention(tf.keras.layers.Layer):\n",
        "  def __init__(self, units):\n",
        "    super(BahdanauAttention, self).__init__()\n",
        "    self.W1 = tf.keras.layers.Dense(units)\n",
        "    self.W2 = tf.keras.layers.Dense(units)\n",
        "    self.V = tf.keras.layers.Dense(1)\n",
        "\n",
        "  def call(self, query, values):\n",
        "\n",
        "    hidden_with_time_axis = tf.expand_dims(query, 1)\n",
        "\n",
        "    score = tf.matmul(values, tf.transpose(hidden_with_time_axis, perm=[0, 2, 1]))\n",
        "    # score = self.V(tf.nn.tanh(self.W1(values) + self.W2(hidden_with_time_axis)))\n",
        "    # print(tf.shape(score))\n",
        "\n",
        "    attention_weights = tf.nn.softmax(score, axis=1)\n",
        "    context_vector = attention_weights * values\n",
        "\n",
        "    context_vector = tf.reduce_sum(context_vector, axis=1)\n",
        "\n",
        "    return context_vector, attention_weights"
      ],
      "execution_count": 19,
      "outputs": []
    },
    {
      "cell_type": "code",
      "metadata": {
        "id": "26T8sjhfCuWv",
        "outputId": "54478bc8-476e-45a2-a0d7-a7384b8a48dd",
        "colab": {
          "base_uri": "https://localhost:8080/"
        }
      },
      "source": [
        "attention_layer = BahdanauAttention(10)\n",
        "attention_result, attention_weights = attention_layer(sample_hidden, sample_output)\n",
        "\n",
        "print(\"Attention result shape: (batch size, units) {}\".format(attention_result.shape))\n",
        "print(\"Attention weights shape: (batch_size, sequence_length, 1) {}\".format(attention_weights.shape))"
      ],
      "execution_count": 20,
      "outputs": [
        {
          "output_type": "stream",
          "text": [
            "Attention result shape: (batch size, units) (64, 1024)\n",
            "Attention weights shape: (batch_size, sequence_length, 1) (64, 3, 1)\n"
          ],
          "name": "stdout"
        }
      ]
    },
    {
      "cell_type": "code",
      "metadata": {
        "id": "hIaZpmzkC1Dl"
      },
      "source": [
        "class Decoder(tf.keras.Model):\n",
        "  def __init__(self, vocab_size, embedding_dim, dec_units, batch_sz):\n",
        "    super(Decoder, self).__init__()\n",
        "    self.batch_sz = batch_sz\n",
        "    self.dec_units = dec_units\n",
        "    self.embedding = tf.keras.layers.Embedding(len(target_char_id), embedding_dim)\n",
        "    self.gru = tf.keras.layers.GRU(self.dec_units,\n",
        "                     return_sequences=True,\n",
        "                     return_state=True,\n",
        "                     recurrent_initializer='glorot_uniform')\n",
        "    self.fc = tf.keras.layers.Dense(vocab_size, activation=\"softmax\")\n",
        "    # 用于注意力\n",
        "    self.attention = BahdanauAttention(self.dec_units)\n",
        "\n",
        "  def call(self, x, enc_output=None):\n",
        "\n",
        "    # x 在通过嵌入层后的形状 == （批大小，1，嵌入维度）\n",
        "    x = self.embedding(x)\n",
        "\n",
        "    # gru\n",
        "    _, state = self.gru(x)\n",
        "    context_vector, attention_weights = self.attention(state, enc_output)\n",
        "\n",
        "    output = tf.concat([context_vector, state], axis=-1)\n",
        "    x = self.fc(output)\n",
        "\n",
        "    return x, state, attention_weights"
      ],
      "execution_count": 22,
      "outputs": []
    },
    {
      "cell_type": "code",
      "metadata": {
        "id": "vNyQnyY_C9dH",
        "outputId": "5215e47d-0465-4d8f-d1c6-2b408b68f12b",
        "colab": {
          "base_uri": "https://localhost:8080/"
        }
      },
      "source": [
        "decoder = Decoder(vocab_tar_size, embedding_dim, units, BATCH_SIZE)\n",
        "\n",
        "sample_decoder_output, state, _ = decoder(tf.random.uniform((64, 1)), sample_output)\n",
        "\n",
        "print ('Decoder output shape: (batch_size, vocab size) {}'.format(sample_decoder_output.shape))\n",
        "print ('Decoder state shape: (batch_size, vocab size) {}'.format(state.shape))"
      ],
      "execution_count": 23,
      "outputs": [
        {
          "output_type": "stream",
          "text": [
            "Decoder output shape: (batch_size, vocab size) (64, 359)\n",
            "Decoder state shape: (batch_size, vocab size) (64, 1024)\n"
          ],
          "name": "stdout"
        }
      ]
    },
    {
      "cell_type": "code",
      "metadata": {
        "id": "JnAPAERGC_6g"
      },
      "source": [
        "optimizer = tf.keras.optimizers.Adam()\n",
        "# loss_object = tf.keras.losses.SparseCategoricalCrossentropy(\n",
        "#     from_logits=True, reduction='none')\n",
        "\n",
        "# def loss_function(real, pred):\n",
        "#   mask = tf.math.logical_not(tf.math.equal(real, 0))\n",
        "#   loss_ = loss_object(real, pred)\n",
        "\n",
        "#   mask = tf.cast(mask, dtype=loss_.dtype)\n",
        "#   loss_ *= mask\n",
        "\n",
        "#   return tf.reduce_mean(loss_)"
      ],
      "execution_count": 24,
      "outputs": []
    },
    {
      "cell_type": "code",
      "metadata": {
        "id": "7ZtgxZg3DJdn"
      },
      "source": [
        "checkpoint_dir = './training_checkpoints'\n",
        "checkpoint_prefix = os.path.join(checkpoint_dir, \"ckpt\")\n",
        "checkpoint = tf.train.Checkpoint(optimizer=optimizer,\n",
        "                                 encoder=encoder,\n",
        "                                 decoder=decoder)"
      ],
      "execution_count": 25,
      "outputs": []
    },
    {
      "cell_type": "code",
      "metadata": {
        "id": "mRMomHDADLu1"
      },
      "source": [
        "@tf.function\n",
        "def train_step(inp, targ, enc_hidden):\n",
        "  loss = 0\n",
        "\n",
        "  with tf.GradientTape() as tape:\n",
        "    enc_output, enc_hidden = encoder(inp, enc_hidden)\n",
        "    dec_hidden = enc_hidden\n",
        "    dec_input = tf.expand_dims([target_char_id[\"<start>\"]] * BATCH_SIZE, 1)\n",
        "\n",
        "    # 将目标词作为下一个输入\n",
        "    for t in range(1, targ.shape[1]):\n",
        "      # 将编码器输出 （enc_output） 传送至解码器\n",
        "      predictions, dec_hidden, _ = decoder(dec_input, enc_output)\n",
        "      loss += tf.reduce_mean(tf.keras.losses.sparse_categorical_crossentropy(targ[:, t], predictions))\n",
        "      # loss += loss_function(targ[:, t], predictions)\n",
        "      dec_input = tf.expand_dims(targ[:, t], 1)\n",
        "\n",
        "  batch_loss = (loss / int(targ.shape[1]))\n",
        "\n",
        "  variables = encoder.trainable_variables + decoder.trainable_variables\n",
        "\n",
        "  gradients = tape.gradient(loss, variables)\n",
        "\n",
        "  optimizer.apply_gradients(zip(gradients, variables))\n",
        "\n",
        "  return batch_loss"
      ],
      "execution_count": 26,
      "outputs": []
    },
    {
      "cell_type": "code",
      "metadata": {
        "id": "Qnzn-j5uDQ_c",
        "outputId": "061d35dd-0393-4548-9d22-4cb1f8a31c6b",
        "colab": {
          "base_uri": "https://localhost:8080/"
        }
      },
      "source": [
        "EPOCHS = 10\n",
        "for epoch in range(EPOCHS):\n",
        "  start = time.time()\n",
        "  enc_hidden = encoder.initialize_hidden_state()\n",
        "  total_loss = 0\n",
        "  for (batch, (inp, targ)) in enumerate(dataset.take(steps_per_epoch)):\n",
        "    batch_loss = train_step(inp, targ, enc_hidden)\n",
        "    total_loss += batch_loss\n",
        "    if batch % 100 == 0:\n",
        "        print('Epoch {} Batch {} Loss {:.4f}'.format(epoch + 1, batch, batch_loss.numpy()))\n",
        "  # 每 2 个周期（epoch），保存（检查点）一次模型\n",
        "  if (epoch + 1) % 2 == 0:\n",
        "    checkpoint.save(file_prefix = checkpoint_prefix)\n",
        "    \n",
        "  print('Epoch {} Loss {:.4f}'.format(epoch + 1, total_loss / steps_per_epoch))"
      ],
      "execution_count": 27,
      "outputs": [
        {
          "output_type": "stream",
          "text": [
            "Epoch 1 Batch 0 Loss 4.9050\n",
            "Epoch 1 Loss 3.6349\n",
            "Epoch 2 Batch 0 Loss 4.6976\n",
            "Epoch 2 Loss 3.4257\n",
            "Epoch 3 Batch 0 Loss 4.1517\n",
            "Epoch 3 Loss 2.8672\n",
            "Epoch 4 Batch 0 Loss 2.8730\n",
            "Epoch 4 Loss 2.2208\n",
            "Epoch 5 Batch 0 Loss 2.6196\n",
            "Epoch 5 Loss 1.9816\n",
            "Epoch 6 Batch 0 Loss 2.8122\n",
            "Epoch 6 Loss 2.0157\n",
            "Epoch 7 Batch 0 Loss 2.5559\n",
            "Epoch 7 Loss 1.9092\n",
            "Epoch 8 Batch 0 Loss 2.5071\n",
            "Epoch 8 Loss 1.8019\n",
            "Epoch 9 Batch 0 Loss 2.2913\n",
            "Epoch 9 Loss 1.7129\n",
            "Epoch 10 Batch 0 Loss 2.1515\n",
            "Epoch 10 Loss 1.6191\n"
          ],
          "name": "stdout"
        }
      ]
    },
    {
      "cell_type": "code",
      "metadata": {
        "id": "xGk_DsUnDUGg"
      },
      "source": [
        "def evaluate(sentence):\n",
        "\n",
        "    attention_plot = np.zeros((target_sentence_max_length, source_sentence_max_length))\n",
        "\n",
        "    # char to id\n",
        "    inputs = [source_char_id[i] for i in sentence.strip().split(' ')]\n",
        "    # padding\n",
        "    inputs = tf.keras.preprocessing.sequence.pad_sequences([inputs],\n",
        "                                 maxlen=source_sentence_max_length,\n",
        "                                 padding='post')\n",
        "    inputs = tf.convert_to_tensor(inputs)\n",
        "\n",
        "    result = ''\n",
        "\n",
        "    hidden = [tf.zeros((1, units))]\n",
        "    enc_out, enc_hidden = encoder(inputs, hidden)\n",
        "\n",
        "    dec_hidden = enc_hidden\n",
        "    dec_input = tf.expand_dims([target_char_id['<start>']], 0)\n",
        "\n",
        "    for t in range(target_sentence_max_length):\n",
        "        predictions, dec_hidden, attention_weights = decoder(dec_input,\n",
        "                                     dec_hidden,\n",
        "                                     enc_out)\n",
        "\n",
        "        # 存储注意力权重以便后面制图\n",
        "        attention_weights = tf.reshape(attention_weights, (-1, ))\n",
        "        attention_plot[t] = attention_weights.numpy()\n",
        "\n",
        "        predicted_id = tf.argmax(predictions[0]).numpy()\n",
        "\n",
        "        result += target_id_char[predicted_id] + ' '\n",
        "\n",
        "        if target_id_char[predicted_id] == '<end>':\n",
        "            return result, sentence, attention_plot\n",
        "\n",
        "        # 预测的 ID 被输送回模型\n",
        "        dec_input = tf.expand_dims([predicted_id], 0)\n",
        "\n",
        "    return result, sentence, attention_plot"
      ],
      "execution_count": 28,
      "outputs": []
    },
    {
      "cell_type": "code",
      "metadata": {
        "id": "iNFu2-fJGnpf"
      },
      "source": [
        "# 注意力权重制图函数\n",
        "def plot_attention(attention, sentence, predicted_sentence):\n",
        "    fig = plt.figure(figsize=(10,10))\n",
        "    ax = fig.add_subplot(1, 1, 1)\n",
        "    ax.matshow(attention, cmap='viridis')\n",
        "\n",
        "    fontdict = {'fontsize': 14}\n",
        "\n",
        "    ax.set_xticklabels([''] + sentence, fontdict=fontdict, rotation=90)\n",
        "    ax.set_yticklabels([''] + predicted_sentence, fontdict=fontdict)\n",
        "\n",
        "    ax.xaxis.set_major_locator(ticker.MultipleLocator(1))\n",
        "    ax.yaxis.set_major_locator(ticker.MultipleLocator(1))\n",
        "\n",
        "    plt.show()"
      ],
      "execution_count": 29,
      "outputs": []
    },
    {
      "cell_type": "code",
      "metadata": {
        "id": "1ea1f0PuGqJX"
      },
      "source": [
        "def translate(sentence):\n",
        "    result, sentence, attention_plot = evaluate(sentence)\n",
        "\n",
        "    print('Input: %s' % (sentence))\n",
        "    print('Predicted translation: {}'.format(result))\n",
        "\n",
        "    attention_plot = attention_plot[:len(result.split(' ')), :len(sentence.split(' '))]\n",
        "    plot_attention(attention_plot, sentence.split(' '), result.split(' '))"
      ],
      "execution_count": 30,
      "outputs": []
    },
    {
      "cell_type": "code",
      "metadata": {
        "id": "ocCFsPjfGs3O",
        "outputId": "56df3862-14c8-46e4-fc66-c5ea07bb6f75",
        "colab": {
          "base_uri": "https://localhost:8080/"
        }
      },
      "source": [
        "# 恢复检查点目录 （checkpoint_dir） 中最新的检查点\n",
        "checkpoint.restore(tf.train.latest_checkpoint(checkpoint_dir))"
      ],
      "execution_count": 31,
      "outputs": [
        {
          "output_type": "execute_result",
          "data": {
            "text/plain": [
              "<tensorflow.python.training.tracking.util.CheckpointLoadStatus at 0x7fdfb6e6edd8>"
            ]
          },
          "metadata": {
            "tags": []
          },
          "execution_count": 31
        }
      ]
    },
    {
      "cell_type": "code",
      "metadata": {
        "id": "iFxmz7KtGvcE",
        "outputId": "d312df2e-1dd7-470b-a584-8e0c75ce8c67",
        "colab": {
          "base_uri": "https://localhost:8080/",
          "height": 308
        }
      },
      "source": [
        "translate('I')"
      ],
      "execution_count": 32,
      "outputs": [
        {
          "output_type": "error",
          "ename": "TypeError",
          "evalue": "ignored",
          "traceback": [
            "\u001b[0;31m---------------------------------------------------------------------------\u001b[0m",
            "\u001b[0;31mTypeError\u001b[0m                                 Traceback (most recent call last)",
            "\u001b[0;32m<ipython-input-32-4bb02e5f5ba8>\u001b[0m in \u001b[0;36m<module>\u001b[0;34m()\u001b[0m\n\u001b[0;32m----> 1\u001b[0;31m \u001b[0mtranslate\u001b[0m\u001b[0;34m(\u001b[0m\u001b[0;34m'I'\u001b[0m\u001b[0;34m)\u001b[0m\u001b[0;34m\u001b[0m\u001b[0;34m\u001b[0m\u001b[0m\n\u001b[0m",
            "\u001b[0;32m<ipython-input-30-c5a87b4b04cb>\u001b[0m in \u001b[0;36mtranslate\u001b[0;34m(sentence)\u001b[0m\n\u001b[1;32m      1\u001b[0m \u001b[0;32mdef\u001b[0m \u001b[0mtranslate\u001b[0m\u001b[0;34m(\u001b[0m\u001b[0msentence\u001b[0m\u001b[0;34m)\u001b[0m\u001b[0;34m:\u001b[0m\u001b[0;34m\u001b[0m\u001b[0;34m\u001b[0m\u001b[0m\n\u001b[0;32m----> 2\u001b[0;31m     \u001b[0mresult\u001b[0m\u001b[0;34m,\u001b[0m \u001b[0msentence\u001b[0m\u001b[0;34m,\u001b[0m \u001b[0mattention_plot\u001b[0m \u001b[0;34m=\u001b[0m \u001b[0mevaluate\u001b[0m\u001b[0;34m(\u001b[0m\u001b[0msentence\u001b[0m\u001b[0;34m)\u001b[0m\u001b[0;34m\u001b[0m\u001b[0;34m\u001b[0m\u001b[0m\n\u001b[0m\u001b[1;32m      3\u001b[0m \u001b[0;34m\u001b[0m\u001b[0m\n\u001b[1;32m      4\u001b[0m     \u001b[0mprint\u001b[0m\u001b[0;34m(\u001b[0m\u001b[0;34m'Input: %s'\u001b[0m \u001b[0;34m%\u001b[0m \u001b[0;34m(\u001b[0m\u001b[0msentence\u001b[0m\u001b[0;34m)\u001b[0m\u001b[0;34m)\u001b[0m\u001b[0;34m\u001b[0m\u001b[0;34m\u001b[0m\u001b[0m\n\u001b[1;32m      5\u001b[0m     \u001b[0mprint\u001b[0m\u001b[0;34m(\u001b[0m\u001b[0;34m'Predicted translation: {}'\u001b[0m\u001b[0;34m.\u001b[0m\u001b[0mformat\u001b[0m\u001b[0;34m(\u001b[0m\u001b[0mresult\u001b[0m\u001b[0;34m)\u001b[0m\u001b[0;34m)\u001b[0m\u001b[0;34m\u001b[0m\u001b[0;34m\u001b[0m\u001b[0m\n",
            "\u001b[0;32m<ipython-input-28-1267a0f0f041>\u001b[0m in \u001b[0;36mevaluate\u001b[0;34m(sentence)\u001b[0m\n\u001b[1;32m     22\u001b[0m         predictions, dec_hidden, attention_weights = decoder(dec_input,\n\u001b[1;32m     23\u001b[0m                                      \u001b[0mdec_hidden\u001b[0m\u001b[0;34m,\u001b[0m\u001b[0;34m\u001b[0m\u001b[0;34m\u001b[0m\u001b[0m\n\u001b[0;32m---> 24\u001b[0;31m                                      enc_out)\n\u001b[0m\u001b[1;32m     25\u001b[0m \u001b[0;34m\u001b[0m\u001b[0m\n\u001b[1;32m     26\u001b[0m         \u001b[0;31m# 存储注意力权重以便后面制图\u001b[0m\u001b[0;34m\u001b[0m\u001b[0;34m\u001b[0m\u001b[0;34m\u001b[0m\u001b[0m\n",
            "\u001b[0;32m/usr/local/lib/python3.6/dist-packages/tensorflow/python/keras/engine/base_layer.py\u001b[0m in \u001b[0;36m__call__\u001b[0;34m(self, *args, **kwargs)\u001b[0m\n\u001b[1;32m    983\u001b[0m \u001b[0;34m\u001b[0m\u001b[0m\n\u001b[1;32m    984\u001b[0m         \u001b[0;32mwith\u001b[0m \u001b[0mops\u001b[0m\u001b[0;34m.\u001b[0m\u001b[0menable_auto_cast_variables\u001b[0m\u001b[0;34m(\u001b[0m\u001b[0mself\u001b[0m\u001b[0;34m.\u001b[0m\u001b[0m_compute_dtype_object\u001b[0m\u001b[0;34m)\u001b[0m\u001b[0;34m:\u001b[0m\u001b[0;34m\u001b[0m\u001b[0;34m\u001b[0m\u001b[0m\n\u001b[0;32m--> 985\u001b[0;31m           \u001b[0moutputs\u001b[0m \u001b[0;34m=\u001b[0m \u001b[0mcall_fn\u001b[0m\u001b[0;34m(\u001b[0m\u001b[0minputs\u001b[0m\u001b[0;34m,\u001b[0m \u001b[0;34m*\u001b[0m\u001b[0margs\u001b[0m\u001b[0;34m,\u001b[0m \u001b[0;34m**\u001b[0m\u001b[0mkwargs\u001b[0m\u001b[0;34m)\u001b[0m\u001b[0;34m\u001b[0m\u001b[0;34m\u001b[0m\u001b[0m\n\u001b[0m\u001b[1;32m    986\u001b[0m \u001b[0;34m\u001b[0m\u001b[0m\n\u001b[1;32m    987\u001b[0m         \u001b[0;32mif\u001b[0m \u001b[0mself\u001b[0m\u001b[0;34m.\u001b[0m\u001b[0m_activity_regularizer\u001b[0m\u001b[0;34m:\u001b[0m\u001b[0;34m\u001b[0m\u001b[0;34m\u001b[0m\u001b[0m\n",
            "\u001b[0;31mTypeError\u001b[0m: call() takes from 2 to 3 positional arguments but 4 were given"
          ]
        }
      ]
    },
    {
      "cell_type": "code",
      "metadata": {
        "id": "RwoOGOZRZn3m"
      },
      "source": [
        ""
      ],
      "execution_count": 31,
      "outputs": []
    }
  ]
}